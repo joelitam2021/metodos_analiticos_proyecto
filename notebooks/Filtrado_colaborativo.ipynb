{
 "cells": [
  {
   "cell_type": "markdown",
   "id": "d29ce4c1-2738-4d76-8464-d22dc8df6590",
   "metadata": {},
   "source": [
    "### Sistema de recomendción y filtrado colaborativo. Recomendación de articulos de moda"
   ]
  },
  {
   "cell_type": "code",
   "execution_count": null,
   "id": "e06e4f7c-e17c-4f8b-bbce-59f1f1160123",
   "metadata": {},
   "outputs": [],
   "source": [
    "conda install pyspark"
   ]
  },
  {
   "cell_type": "code",
   "execution_count": 4,
   "id": "b7623853-d5d8-45cd-be1f-dab494d2e624",
   "metadata": {},
   "outputs": [
    {
     "name": "stdout",
     "output_type": "stream",
     "text": [
      "Collecting package metadata (current_repodata.json): ...working... done\n",
      "Solving environment: ...working... done\n",
      "\n",
      "# All requested packages already installed.\n",
      "\n",
      "\n",
      "Note: you may need to restart the kernel to use updated packages.\n"
     ]
    }
   ],
   "source": [
    "conda install pyspark[sql]"
   ]
  },
  {
   "cell_type": "code",
   "execution_count": 4,
   "id": "4c7a1b48-7543-482a-8d23-1da9075ac793",
   "metadata": {},
   "outputs": [
    {
     "name": "stdout",
     "output_type": "stream",
     "text": [
      "Collecting package metadata (current_repodata.json): ...working... done\n",
      "Solving environment: ...working... done\n",
      "\n",
      "## Package Plan ##\n",
      "\n",
      "  environment location: C:\\Users\\garcjo30\\Documents\\Python\n",
      "\n",
      "  added / updated specs:\n",
      "    - findspark\n",
      "\n",
      "\n",
      "The following packages will be downloaded:\n",
      "\n",
      "    package                    |            build\n",
      "    ---------------------------|-----------------\n",
      "    conda-4.12.0               |   py39hcbf5309_0         1.0 MB  conda-forge\n",
      "    findspark-2.0.1            |     pyhd8ed1ab_0           8 KB  conda-forge\n",
      "    python_abi-3.9             |           2_cp39           4 KB  conda-forge\n",
      "    ------------------------------------------------------------\n",
      "                                           Total:         1.0 MB\n",
      "\n",
      "The following NEW packages will be INSTALLED:\n",
      "\n",
      "  findspark          conda-forge/noarch::findspark-2.0.1-pyhd8ed1ab_0\n",
      "  python_abi         conda-forge/win-64::python_abi-3.9-2_cp39\n",
      "\n",
      "The following packages will be SUPERSEDED by a higher-priority channel:\n",
      "\n",
      "  conda              pkgs/main::conda-4.12.0-py39haa95532_0 --> conda-forge::conda-4.12.0-py39hcbf5309_0\n",
      "\n",
      "\n",
      "\n",
      "Downloading and Extracting Packages\n",
      "\n",
      "findspark-2.0.1      | 8 KB      |            |   0% \n",
      "findspark-2.0.1      | 8 KB      | ########## | 100% \n",
      "findspark-2.0.1      | 8 KB      | ########## | 100% \n",
      "\n",
      "python_abi-3.9       | 4 KB      |            |   0% \n",
      "python_abi-3.9       | 4 KB      | ########## | 100% \n",
      "python_abi-3.9       | 4 KB      | ########## | 100% \n",
      "\n",
      "conda-4.12.0         | 1.0 MB    |            |   0% \n",
      "conda-4.12.0         | 1.0 MB    | 1          |   2% \n",
      "conda-4.12.0         | 1.0 MB    | 9          |   9% \n",
      "conda-4.12.0         | 1.0 MB    | ##3        |  23% \n",
      "conda-4.12.0         | 1.0 MB    | #####8     |  59% \n",
      "conda-4.12.0         | 1.0 MB    | ########## | 100% \n",
      "conda-4.12.0         | 1.0 MB    | ########## | 100% \n",
      "Preparing transaction: ...working... done\n",
      "Verifying transaction: ...working... done\n",
      "Executing transaction: ...working... done\n",
      "\n",
      "Note: you may need to restart the kernel to use updated packages.\n"
     ]
    }
   ],
   "source": [
    "conda install -c conda-forge findspark"
   ]
  },
  {
   "cell_type": "code",
   "execution_count": 1,
   "id": "e154c15b-6e9d-462c-90e0-bbb435b3433b",
   "metadata": {},
   "outputs": [],
   "source": [
    "import pyspark\n",
    "from pyspark.ml.recommendation import ALS\n",
    "#from pyspark.mllib.recommendation import ALS\n",
    "from pyspark.sql import SparkSession, Window\n",
    "import os\n",
    "import pandas as pd\n",
    "from pyspark.sql.functions import lit, row_number, monotonically_increasing_id, col,isnan, when, count, desc, sum, rand, explode\n",
    "from pyspark.sql import functions as F\n",
    "from pyspark.sql.types import IntegerType,BooleanType,DateType\n",
    "from pyspark.ml.evaluation import RegressionEvaluator\n",
    "import findspark\n",
    "from pyspark.ml.fpm import FPGrowth\n",
    "import random"
   ]
  },
  {
   "cell_type": "markdown",
   "id": "f1c772bb-0866-4cc0-a767-56d2383d3f26",
   "metadata": {},
   "source": [
    "Setup 'JAVA_HOME'"
   ]
  },
  {
   "cell_type": "code",
   "execution_count": 2,
   "id": "e883ead9-6d28-4543-9e70-a1e52e073c87",
   "metadata": {},
   "outputs": [],
   "source": [
    "findspark.init()"
   ]
  },
  {
   "cell_type": "code",
   "execution_count": 3,
   "id": "25252f9c-6839-4dba-84c7-507feb9b7a17",
   "metadata": {},
   "outputs": [],
   "source": [
    "os.environ['JAVA_HOME'] = 'C:/Users/garcjo30/Documents/jdk-11.0.15_windows-x64_bin/jdk-11.0.15'\n",
    "os.environ['PYSPARK_SUBMIT_ARGS'] = \"--driver-memory 30g --executor-memory 30g pyspark-shell\"\n",
    "#os.environ['PYSPARK_DRIVER_PYTHON'] = \"jupyter\"\n",
    "#os.environ['PYSPARK_DRIVER_PYTHON_OPTS'] = \"notebook\"\n",
    "#os.environ['PYSPARK_PYTHON'] = \"python\""
   ]
  },
  {
   "cell_type": "code",
   "execution_count": 4,
   "id": "ccea0fdb-7c0e-450e-b29c-f72f1ca8f5a7",
   "metadata": {},
   "outputs": [],
   "source": [
    "#Conextion\n",
    "#spark = SparkSession.builder.getOrCreate()\n",
    "spark = SparkSession.builder.config(\"spark.driver.memory\", \"30g\").getOrCreate()"
   ]
  },
  {
   "cell_type": "code",
   "execution_count": 5,
   "id": "8de957fd-864d-48d9-b25c-36f27831b0d0",
   "metadata": {},
   "outputs": [
    {
     "data": {
      "text/html": [
       "\n",
       "            <div>\n",
       "                <p><b>SparkSession - in-memory</b></p>\n",
       "                \n",
       "        <div>\n",
       "            <p><b>SparkContext</b></p>\n",
       "\n",
       "            <p><a href=\"http://MXLJMBX273.enterprisenet.org:4041\">Spark UI</a></p>\n",
       "\n",
       "            <dl>\n",
       "              <dt>Version</dt>\n",
       "                <dd><code>v3.1.2</code></dd>\n",
       "              <dt>Master</dt>\n",
       "                <dd><code>local[*]</code></dd>\n",
       "              <dt>AppName</dt>\n",
       "                <dd><code>pyspark-shell</code></dd>\n",
       "            </dl>\n",
       "        </div>\n",
       "        \n",
       "            </div>\n",
       "        "
      ],
      "text/plain": [
       "<pyspark.sql.session.SparkSession at 0x15738d419a0>"
      ]
     },
     "execution_count": 5,
     "metadata": {},
     "output_type": "execute_result"
    }
   ],
   "source": [
    "spark"
   ]
  },
  {
   "cell_type": "markdown",
   "id": "b6248433-603b-4fe2-b88a-038351307719",
   "metadata": {},
   "source": [
    "Lectura de los datos"
   ]
  },
  {
   "cell_type": "code",
   "execution_count": 7,
   "id": "c7c86ca6-47df-4b4b-b2b7-01251b38ae6e",
   "metadata": {},
   "outputs": [],
   "source": [
    "transactions = transactions.select('customer_id','article_id')"
   ]
  },
  {
   "cell_type": "code",
   "execution_count": 8,
   "id": "9cd02dc2-f638-41dd-bbf0-e45da401b89b",
   "metadata": {},
   "outputs": [],
   "source": [
    "transactions = transactions.withColumn(\"flag\", lit(1))"
   ]
  },
  {
   "cell_type": "code",
   "execution_count": 9,
   "id": "555942a7-e198-4dfb-91b9-d4571943eab7",
   "metadata": {},
   "outputs": [
    {
     "data": {
      "text/html": [
       "<div>\n",
       "<style scoped>\n",
       "    .dataframe tbody tr th:only-of-type {\n",
       "        vertical-align: middle;\n",
       "    }\n",
       "\n",
       "    .dataframe tbody tr th {\n",
       "        vertical-align: top;\n",
       "    }\n",
       "\n",
       "    .dataframe thead th {\n",
       "        text-align: right;\n",
       "    }\n",
       "</style>\n",
       "<table border=\"1\" class=\"dataframe\">\n",
       "  <thead>\n",
       "    <tr style=\"text-align: right;\">\n",
       "      <th></th>\n",
       "      <th>customer_id</th>\n",
       "      <th>article_id</th>\n",
       "      <th>flag</th>\n",
       "    </tr>\n",
       "  </thead>\n",
       "  <tbody>\n",
       "    <tr>\n",
       "      <th>0</th>\n",
       "      <td>000058a12d5b43e67d225668fa1f8d618c13dc232df0ca...</td>\n",
       "      <td>663713001</td>\n",
       "      <td>1</td>\n",
       "    </tr>\n",
       "    <tr>\n",
       "      <th>1</th>\n",
       "      <td>000058a12d5b43e67d225668fa1f8d618c13dc232df0ca...</td>\n",
       "      <td>541518023</td>\n",
       "      <td>1</td>\n",
       "    </tr>\n",
       "    <tr>\n",
       "      <th>2</th>\n",
       "      <td>00007d2de826758b65a93dd24ce629ed66842531df6699...</td>\n",
       "      <td>505221004</td>\n",
       "      <td>1</td>\n",
       "    </tr>\n",
       "    <tr>\n",
       "      <th>3</th>\n",
       "      <td>00007d2de826758b65a93dd24ce629ed66842531df6699...</td>\n",
       "      <td>685687003</td>\n",
       "      <td>1</td>\n",
       "    </tr>\n",
       "    <tr>\n",
       "      <th>4</th>\n",
       "      <td>00007d2de826758b65a93dd24ce629ed66842531df6699...</td>\n",
       "      <td>685687004</td>\n",
       "      <td>1</td>\n",
       "    </tr>\n",
       "    <tr>\n",
       "      <th>5</th>\n",
       "      <td>00007d2de826758b65a93dd24ce629ed66842531df6699...</td>\n",
       "      <td>685687001</td>\n",
       "      <td>1</td>\n",
       "    </tr>\n",
       "    <tr>\n",
       "      <th>6</th>\n",
       "      <td>00007d2de826758b65a93dd24ce629ed66842531df6699...</td>\n",
       "      <td>505221001</td>\n",
       "      <td>1</td>\n",
       "    </tr>\n",
       "    <tr>\n",
       "      <th>7</th>\n",
       "      <td>00083cda041544b2fbb0e0d2905ad17da7cf1007526fb4...</td>\n",
       "      <td>688873012</td>\n",
       "      <td>1</td>\n",
       "    </tr>\n",
       "    <tr>\n",
       "      <th>8</th>\n",
       "      <td>00083cda041544b2fbb0e0d2905ad17da7cf1007526fb4...</td>\n",
       "      <td>501323011</td>\n",
       "      <td>1</td>\n",
       "    </tr>\n",
       "    <tr>\n",
       "      <th>9</th>\n",
       "      <td>00083cda041544b2fbb0e0d2905ad17da7cf1007526fb4...</td>\n",
       "      <td>598859003</td>\n",
       "      <td>1</td>\n",
       "    </tr>\n",
       "  </tbody>\n",
       "</table>\n",
       "</div>"
      ],
      "text/plain": [
       "                                         customer_id article_id  flag\n",
       "0  000058a12d5b43e67d225668fa1f8d618c13dc232df0ca...  663713001     1\n",
       "1  000058a12d5b43e67d225668fa1f8d618c13dc232df0ca...  541518023     1\n",
       "2  00007d2de826758b65a93dd24ce629ed66842531df6699...  505221004     1\n",
       "3  00007d2de826758b65a93dd24ce629ed66842531df6699...  685687003     1\n",
       "4  00007d2de826758b65a93dd24ce629ed66842531df6699...  685687004     1\n",
       "5  00007d2de826758b65a93dd24ce629ed66842531df6699...  685687001     1\n",
       "6  00007d2de826758b65a93dd24ce629ed66842531df6699...  505221001     1\n",
       "7  00083cda041544b2fbb0e0d2905ad17da7cf1007526fb4...  688873012     1\n",
       "8  00083cda041544b2fbb0e0d2905ad17da7cf1007526fb4...  501323011     1\n",
       "9  00083cda041544b2fbb0e0d2905ad17da7cf1007526fb4...  598859003     1"
      ]
     },
     "execution_count": 9,
     "metadata": {},
     "output_type": "execute_result"
    }
   ],
   "source": [
    "transactions.limit(10).toPandas()"
   ]
  },
  {
   "cell_type": "code",
   "execution_count": 10,
   "id": "7cbc078f-10f4-4a78-95cf-400d57f79e02",
   "metadata": {},
   "outputs": [],
   "source": [
    "transactions = transactions.groupBy([\"customer_id\",\"article_id\"]).agg(F.sum(\"flag\").alias(\"purchase_count\"))"
   ]
  },
  {
   "cell_type": "code",
   "execution_count": 10,
   "id": "0cc150ea-f161-4b63-acd5-0a5ac3942dfb",
   "metadata": {},
   "outputs": [
    {
     "name": "stdout",
     "output_type": "stream",
     "text": [
      "+--------------------+----------+--------------+\n",
      "|         customer_id|article_id|purchase_count|\n",
      "+--------------------+----------+--------------+\n",
      "|00401a367c5ac085c...| 427114015|             1|\n",
      "|00b10bf5c51e961bd...| 562245050|             1|\n",
      "|02042b44255a14412...| 628930004|             1|\n",
      "|04cec5f3914316cc2...| 580041001|             1|\n",
      "|0653814d364bd9ce3...| 306847002|             2|\n",
      "|06884807549bd7463...| 669363001|             1|\n",
      "|069784a67fe0e349f...| 562245042|             1|\n",
      "|08065e7733fe8cc99...| 655784001|             2|\n",
      "|085b8cdf4101b203c...| 652731008|             1|\n",
      "|0864c58e052b24327...| 478549001|             1|\n",
      "|0942b84e4d9375e47...| 564311002|             1|\n",
      "|0a552cb2fd184643f...| 685687001|             1|\n",
      "|0a6823e56068de750...| 623059004|             1|\n",
      "|0b026732d189dfed3...| 675359001|             1|\n",
      "|0b374e930ae439810...| 576719002|             1|\n",
      "|0bb90665088cc97cd...| 625939014|             1|\n",
      "|0beaf6fdd7de8d6c6...| 640021005|             1|\n",
      "|0c631a706869dde70...| 509994014|             1|\n",
      "|0d17f80365b357f77...| 626443002|             1|\n",
      "|0d7b48b60121ce3f9...| 573716012|             2|\n",
      "+--------------------+----------+--------------+\n",
      "only showing top 20 rows\n",
      "\n"
     ]
    }
   ],
   "source": [
    "transactions.show()"
   ]
  },
  {
   "cell_type": "markdown",
   "id": "ccfbec24-3496-4ad8-8eba-9291b9890ecf",
   "metadata": {},
   "source": [
    "Agregamos id a customer_id para hacer más amigable el uso del codigo de cliente. "
   ]
  },
  {
   "cell_type": "code",
   "execution_count": 11,
   "id": "1a0c4c07-0d99-41df-b585-2cad6e1861dc",
   "metadata": {},
   "outputs": [],
   "source": [
    "costumer_df = transactions.select('customer_id').distinct()"
   ]
  },
  {
   "cell_type": "code",
   "execution_count": 12,
   "id": "10349afe-1c0f-4089-b334-9805b56e0a3f",
   "metadata": {},
   "outputs": [],
   "source": [
    "costumer_df = costumer_df.withColumn(\"client_id\", F.monotonically_increasing_id())"
   ]
  },
  {
   "cell_type": "markdown",
   "id": "450e1c82-75c4-44b1-9608-12843a968936",
   "metadata": {},
   "source": [
    "Cada cliente tiene un client_id único que le represneta de menera numérica"
   ]
  },
  {
   "cell_type": "code",
   "execution_count": 25,
   "id": "62ad3cfa-ffa0-4ff6-bdc1-b713e672037f",
   "metadata": {},
   "outputs": [
    {
     "name": "stdout",
     "output_type": "stream",
     "text": [
      "+--------------------+---------+\n",
      "|         customer_id|client_id|\n",
      "+--------------------+---------+\n",
      "|1e93a1eb9f7d4d435...|        0|\n",
      "|4fe809e46c6363eb8...|        1|\n",
      "|fc97786ea8cabd8c0...|        2|\n",
      "|65028198b4bf902d3...|        3|\n",
      "|b073b24fd8d486474...|        4|\n",
      "|39958372a3f741f40...|        5|\n",
      "|55ee9ece320b8324e...|        6|\n",
      "|c3e6cd3801c306da4...|        7|\n",
      "|05aa3c881787b2e4f...|        8|\n",
      "|8da8bc7d1942f3bfc...|        9|\n",
      "|afec5c4c71f2ee23b...|       10|\n",
      "|9d36c90a6e413f6bd...|       11|\n",
      "|e0dc06d6508538bbd...|       12|\n",
      "|321c73ab8b8b365d0...|       13|\n",
      "|6c4b668b05d2f8567...|       14|\n",
      "|20d8178fd4d25d012...|       15|\n",
      "|e4abd7221a0ec9693...|       16|\n",
      "|6ee8826f6e84c4383...|       17|\n",
      "|9acf97dc20386d391...|       18|\n",
      "|bd585d43e61d13ab6...|       19|\n",
      "+--------------------+---------+\n",
      "only showing top 20 rows\n",
      "\n"
     ]
    }
   ],
   "source": [
    "costumer_df.show()"
   ]
  },
  {
   "cell_type": "code",
   "execution_count": 13,
   "id": "a18b9238-aaea-4368-a9d3-0fd3e31239da",
   "metadata": {},
   "outputs": [],
   "source": [
    "transactions_df = transactions.join(costumer_df,transactions.customer_id == costumer_df.customer_id,\"left\")"
   ]
  },
  {
   "cell_type": "code",
   "execution_count": 38,
   "id": "e83fe290-2004-44c7-be03-a940d5305b2a",
   "metadata": {},
   "outputs": [
    {
     "name": "stdout",
     "output_type": "stream",
     "text": [
      "+--------------------+----------+--------------+--------------------+---------+\n",
      "|         customer_id|article_id|purchase_count|         customer_id|client_id|\n",
      "+--------------------+----------+--------------+--------------------+---------+\n",
      "|000346516dd355b40...| 827636001|             1|000346516dd355b40...|     2371|\n",
      "|000346516dd355b40...| 666084001|             1|000346516dd355b40...|     2371|\n",
      "|000346516dd355b40...| 557248003|             1|000346516dd355b40...|     2371|\n",
      "|000346516dd355b40...| 485176004|             1|000346516dd355b40...|     2371|\n",
      "|000346516dd355b40...| 766955002|             1|000346516dd355b40...|     2371|\n",
      "|000346516dd355b40...| 685823003|             1|000346516dd355b40...|     2371|\n",
      "|000346516dd355b40...| 816423002|             1|000346516dd355b40...|     2371|\n",
      "|000346516dd355b40...| 854193002|             1|000346516dd355b40...|     2371|\n",
      "|000346516dd355b40...| 694966001|             1|000346516dd355b40...|     2371|\n",
      "|000346516dd355b40...| 534210011|             1|000346516dd355b40...|     2371|\n",
      "|000346516dd355b40...| 816588001|             1|000346516dd355b40...|     2371|\n",
      "|000346516dd355b40...| 669708001|             1|000346516dd355b40...|     2371|\n",
      "|000346516dd355b40...| 456163030|             1|000346516dd355b40...|     2371|\n",
      "|000346516dd355b40...| 507909001|             1|000346516dd355b40...|     2371|\n",
      "|000346516dd355b40...| 809672001|             1|000346516dd355b40...|     2371|\n",
      "|000346516dd355b40...| 707777006|             1|000346516dd355b40...|     2371|\n",
      "|000346516dd355b40...| 825811006|             1|000346516dd355b40...|     2371|\n",
      "|000346516dd355b40...| 642437010|             1|000346516dd355b40...|     2371|\n",
      "|000346516dd355b40...| 699923041|             1|000346516dd355b40...|     2371|\n",
      "|000346516dd355b40...| 745232001|             1|000346516dd355b40...|     2371|\n",
      "+--------------------+----------+--------------+--------------------+---------+\n",
      "only showing top 20 rows\n",
      "\n"
     ]
    }
   ],
   "source": [
    "transactions_df.show()"
   ]
  },
  {
   "cell_type": "code",
   "execution_count": 14,
   "id": "e563ebbd-5347-45cc-b8d4-f7d71acb450c",
   "metadata": {},
   "outputs": [],
   "source": [
    "transactions_df = transactions_df.select('client_id', 'article_id', 'purchase_count')"
   ]
  },
  {
   "cell_type": "code",
   "execution_count": 34,
   "id": "d13beb56-4870-4748-9d31-9def776e2b48",
   "metadata": {},
   "outputs": [],
   "source": [
    "transactions_df=transactions_df.withColumn(\"article_id\",transactions_df.article_id.cast('integer'))\n",
    "transactions_df=transactions_df.withColumn(\"client_id\",transactions_df.client_id.cast('integer'))\n",
    "transactions_df=transactions_df.withColumn(\"purchase_count\",transactions_df.purchase_count.cast('integer'))"
   ]
  },
  {
   "cell_type": "markdown",
   "id": "bce9cc1e-43c6-4496-adca-5496bab466aa",
   "metadata": {},
   "source": [
    "### Modelo"
   ]
  },
  {
   "cell_type": "code",
   "execution_count": 35,
   "id": "b3f8521d-4735-4c13-acfc-4f57f5b14019",
   "metadata": {},
   "outputs": [],
   "source": [
    "transactions_df = spark.read.csv(\"Data_sets_articulos/transactions_underwear.csv\", header = \"true\")"
   ]
  },
  {
   "cell_type": "code",
   "execution_count": 37,
   "id": "793ee696-3b54-48b9-91fe-c3e953ffd447",
   "metadata": {},
   "outputs": [],
   "source": [
    "transactions_df=transactions_df.withColumn(\"article_id\",transactions_df.article_id.cast('integer'))\n",
    "transactions_df=transactions_df.withColumn(\"client_id\",transactions_df.client_id.cast('integer'))\n",
    "transactions_df=transactions_df.withColumn(\"purchase_count\",transactions_df.purchase_count.cast('integer'))"
   ]
  },
  {
   "cell_type": "code",
   "execution_count": 38,
   "id": "01fe5718-2076-456e-b31f-a82cfe50db40",
   "metadata": {},
   "outputs": [
    {
     "data": {
      "text/plain": [
       "DataFrame[client_id: int, article_id: int, purchase_count: int]"
      ]
     },
     "execution_count": 38,
     "metadata": {},
     "output_type": "execute_result"
    }
   ],
   "source": [
    "transactions_df"
   ]
  },
  {
   "cell_type": "code",
   "execution_count": 39,
   "id": "0119b86b-59a6-49f2-ac81-19aab5cdb962",
   "metadata": {},
   "outputs": [],
   "source": [
    "(training, test) = transactions_df.randomSplit([0.8, 0.2])"
   ]
  },
  {
   "cell_type": "code",
   "execution_count": 44,
   "id": "5dd36eff-a092-468f-aed6-ec819f401cbc",
   "metadata": {},
   "outputs": [],
   "source": [
    "als = ALS(maxIter=10, regParam=0.05, implicitPrefs=True, alpha = 80, rank = 10, \n",
    "          userCol=\"client_id\", itemCol=\"article_id\", ratingCol=\"purchase_count\",\n",
    "          coldStartStrategy=\"nan\", nonnegative = True)"
   ]
  },
  {
   "cell_type": "code",
   "execution_count": 45,
   "id": "4822c67e-1ea6-4441-9236-7eb6bdeabfdf",
   "metadata": {},
   "outputs": [],
   "source": [
    "model = als.fit(training)"
   ]
  },
  {
   "cell_type": "code",
   "execution_count": 130,
   "id": "4b60f5c7-4aa4-4d3d-aacc-549382f58c34",
   "metadata": {},
   "outputs": [],
   "source": [
    "predictions = model.transform(test)"
   ]
  },
  {
   "cell_type": "code",
   "execution_count": 56,
   "id": "dc4e4a9b-70ff-4e70-b7d9-19710cf14486",
   "metadata": {},
   "outputs": [
    {
     "name": "stdout",
     "output_type": "stream",
     "text": [
      "+---------+----------+--------------+------------+\n",
      "|client_id|article_id|purchase_count|  prediction|\n",
      "+---------+----------+--------------+------------+\n",
      "|      148| 126589006|             1| 0.020087441|\n",
      "|    81284| 126589006|             1|0.0046000816|\n",
      "|    36819| 126589006|             3| 0.004901303|\n",
      "|     4097| 126589006|             2| 0.023317078|\n",
      "|    45999| 126589006|             1|0.0043827416|\n",
      "|     4452| 126589006|             1| 0.021620117|\n",
      "|    21087| 126589006|             1| 0.010084717|\n",
      "|    87634| 126589006|             2|0.0070427945|\n",
      "|    24575| 126589006|             1|0.0085751945|\n",
      "|    55152| 126589006|             1|0.0042971233|\n",
      "|     3885| 126589006|             1| 0.021440638|\n",
      "|    36024| 126589006|             1| 0.004695392|\n",
      "|    16075| 126589006|             1| 0.016745925|\n",
      "|    24072| 126589006|             1| 0.012340558|\n",
      "|     6572| 126589006|             1|    0.019411|\n",
      "|    55451| 126589006|             1| 0.004430715|\n",
      "|     9919| 126589006|             2|  0.02545628|\n",
      "|    24540| 126589006|             1|  0.01068907|\n",
      "|    28542| 126589006|             1| 0.004038377|\n",
      "|    23505| 126589006|             1| 0.010789453|\n",
      "+---------+----------+--------------+------------+\n",
      "only showing top 20 rows\n",
      "\n"
     ]
    }
   ],
   "source": [
    "predictions.show()"
   ]
  },
  {
   "cell_type": "code",
   "execution_count": 106,
   "id": "8352e0f2-10e0-468e-aa20-261a34fa35ed",
   "metadata": {},
   "outputs": [
    {
     "name": "stdout",
     "output_type": "stream",
     "text": [
      "+---------+----------+--------------+----------+\n",
      "|client_id|article_id|purchase_count|prediction|\n",
      "+---------+----------+--------------+----------+\n",
      "|        0|         0|             0|     40179|\n",
      "+---------+----------+--------------+----------+\n",
      "\n"
     ]
    }
   ],
   "source": [
    "predictions.select([count(when(isnan(c) | col(c).isNull(), c)).alias(c) for c in predictions.columns]).show()"
   ]
  },
  {
   "cell_type": "code",
   "execution_count": 48,
   "id": "a67d508d-c05c-4fb4-9977-c333d308d8df",
   "metadata": {},
   "outputs": [
    {
     "name": "stdout",
     "output_type": "stream",
     "text": [
      "(445175, 4)\n"
     ]
    }
   ],
   "source": [
    "print((predictions.count(), len(predictions.columns)))"
   ]
  },
  {
   "cell_type": "markdown",
   "id": "151231ce-66cb-4a8f-9c0f-1f579fb66c79",
   "metadata": {},
   "source": [
    "El mix entre el set de entrenamiento y el de prueba es bueno, ya que únicamente se tienen 1313 valores sin el cálculo de una predicción. Para fines practicos en estos casos se colocara el valor de 1 por default. "
   ]
  },
  {
   "cell_type": "code",
   "execution_count": 89,
   "id": "9a6247f8-4ebf-44d6-9f7f-60e29f39e7ba",
   "metadata": {},
   "outputs": [],
   "source": [
    "predictions_test = predictions.where(isnan(\"prediction\"))"
   ]
  },
  {
   "cell_type": "code",
   "execution_count": 60,
   "id": "8c0156c3-e964-4128-ab3e-00fbf51ba87f",
   "metadata": {},
   "outputs": [
    {
     "name": "stdout",
     "output_type": "stream",
     "text": [
      "(40179, 4)\n"
     ]
    }
   ],
   "source": [
    "print((predictions_test.count(), len(predictions_test.columns)))"
   ]
  },
  {
   "cell_type": "code",
   "execution_count": 91,
   "id": "3bc9047a-afea-4373-8481-0113e504afef",
   "metadata": {},
   "outputs": [
    {
     "name": "stdout",
     "output_type": "stream",
     "text": [
      "+---------+----------+--------------+----------+--------------------+-----------+\n",
      "|client_id|article_id|purchase_count|prediction|                rand|prediction2|\n",
      "+---------+----------+--------------+----------+--------------------+-----------+\n",
      "|   802713| 309434011|             1|       NaN| 0.26162677745559826|       rand|\n",
      "|  1038180| 464297034|             1|       NaN|0.016160906016991716|       rand|\n",
      "|   574990| 464297034|             1|       NaN|  0.3242352705869308|       rand|\n",
      "|  1034305| 464297034|             1|       NaN| 0.14745346916270952|       rand|\n",
      "|  1046728| 464297034|             2|       NaN| 0.17121444098114957|       rand|\n",
      "|   970578| 464297034|             1|       NaN|  0.5500414038954883|       rand|\n",
      "|   118683| 464297034|             1|       NaN|  0.8206651957480466|       rand|\n",
      "|  1041245| 464297034|             1|       NaN|   0.158731562146729|       rand|\n",
      "|  1060695| 464297034|             1|       NaN|  0.7971083662645247|       rand|\n",
      "|  1037803| 464297034|             1|       NaN|  0.2705940332300787|       rand|\n",
      "|  1073763| 464297034|             1|       NaN|  0.9372484002914744|       rand|\n",
      "|   343790| 464297034|             1|       NaN| 0.04358914202485975|       rand|\n",
      "|   480342| 464297034|             2|       NaN|  0.8277797592542894|       rand|\n",
      "|  1114129| 464297034|             1|       NaN|  0.2593717292468495|       rand|\n",
      "|  1048228| 464297034|             1|       NaN|  0.7778876339937428|       rand|\n",
      "|    67183| 464297034|             1|       NaN|  0.5483112161336704|       rand|\n",
      "|  1035530| 464297034|             1|       NaN|  0.9864078625918932|       rand|\n",
      "|   317146| 464297034|             1|       NaN| 0.16116623320235968|       rand|\n",
      "|   918627| 464297034|             1|       NaN|  0.5948645956943158|       rand|\n",
      "|  1051694| 464297034|             1|       NaN| 0.06436668336399842|       rand|\n",
      "+---------+----------+--------------+----------+--------------------+-----------+\n",
      "only showing top 20 rows\n",
      "\n"
     ]
    }
   ],
   "source": [
    "predictions_test.show()"
   ]
  },
  {
   "cell_type": "code",
   "execution_count": 95,
   "id": "ab940669-8c56-4898-ba44-04bf12c6937a",
   "metadata": {},
   "outputs": [],
   "source": [
    "def na_val(a):\n",
    "    if a.isnull():\n",
    "        return random.uniform(0,1)"
   ]
  },
  {
   "cell_type": "code",
   "execution_count": 82,
   "id": "dae126d2-bbe0-4304-bf62-bbb36e38c081",
   "metadata": {},
   "outputs": [],
   "source": [
    "predictions = predictions.withColumn(\"rand\", rand())"
   ]
  },
  {
   "cell_type": "code",
   "execution_count": 83,
   "id": "2c15fab9-66af-4138-b70b-3fef06f84ef3",
   "metadata": {},
   "outputs": [
    {
     "name": "stdout",
     "output_type": "stream",
     "text": [
      "+---------+----------+--------------+-----------+--------------------+\n",
      "|client_id|article_id|purchase_count| prediction|                rand|\n",
      "+---------+----------+--------------+-----------+--------------------+\n",
      "|   549115| 309434011|             1|        0.0| 0.17167690229317434|\n",
      "|   205929| 309434011|             1|9.481082E-5|  0.9548637055417158|\n",
      "|   802713| 309434011|             1|        NaN| 0.26162677745559826|\n",
      "|   417183| 464297034|             1|        0.0|  0.7604739884732543|\n",
      "|   605135| 464297034|             7|        0.0| 0.14175877674124504|\n",
      "|  1054640| 464297034|             1|        0.0|  0.6557620293025815|\n",
      "|   728517| 464297034|             1|        0.0|  0.6347657894164226|\n",
      "|   405281| 464297034|             2|        0.0|  0.6260815008192218|\n",
      "|   141714| 464297034|             1|        0.0|  0.8935744416007677|\n",
      "|   163792| 464297034|             1|        0.0|  0.7610023809529602|\n",
      "|  1040997| 464297034|             1|        0.0|  0.8031399399126765|\n",
      "|   245466| 464297034|             1|        0.0|  0.5906826620075191|\n",
      "|    51754| 464297034|             1|        0.0|  0.3617008134187961|\n",
      "|   895718| 464297034|             1|        0.0|  0.7132631449045097|\n",
      "|  1038180| 464297034|             1|        NaN|0.016160906016991716|\n",
      "|   498682| 464297034|             1|        0.0| 0.19180009473926352|\n",
      "|   539389| 464297034|             1|        0.0|  0.4353195699970932|\n",
      "|   162514| 464297034|             1|        0.0|  0.7238348046455931|\n",
      "|   574990| 464297034|             1|        NaN|  0.3242352705869308|\n",
      "|  1034305| 464297034|             1|        NaN| 0.14745346916270952|\n",
      "+---------+----------+--------------+-----------+--------------------+\n",
      "only showing top 20 rows\n",
      "\n"
     ]
    }
   ],
   "source": [
    "predictions.show()"
   ]
  },
  {
   "cell_type": "code",
   "execution_count": 97,
   "id": "b4de54eb-734e-4cf5-a96c-d28a8e599f20",
   "metadata": {},
   "outputs": [],
   "source": [
    "predictions=predictions.withColumn('prediction2', F.when(isnan('prediction'), col('rand')).otherwise(col(\"prediction\")))"
   ]
  },
  {
   "cell_type": "code",
   "execution_count": 98,
   "id": "d0b3c11e-67a3-4242-8195-e8ca298ff428",
   "metadata": {},
   "outputs": [
    {
     "name": "stdout",
     "output_type": "stream",
     "text": [
      "+---------+----------+--------------+-----------+--------------------+--------------------+\n",
      "|client_id|article_id|purchase_count| prediction|                rand|         prediction2|\n",
      "+---------+----------+--------------+-----------+--------------------+--------------------+\n",
      "|   549115| 309434011|             1|        0.0| 0.17167690229317434|                 0.0|\n",
      "|   205929| 309434011|             1|9.481082E-5|  0.9548637055417158|9.481082088313997E-5|\n",
      "|   802713| 309434011|             1|        NaN| 0.26162677745559826| 0.26162677745559826|\n",
      "|   417183| 464297034|             1|        0.0|  0.7604739884732543|                 0.0|\n",
      "|   605135| 464297034|             7|        0.0| 0.14175877674124504|                 0.0|\n",
      "|  1054640| 464297034|             1|        0.0|  0.6557620293025815|                 0.0|\n",
      "|   728517| 464297034|             1|        0.0|  0.6347657894164226|                 0.0|\n",
      "|   405281| 464297034|             2|        0.0|  0.6260815008192218|                 0.0|\n",
      "|   141714| 464297034|             1|        0.0|  0.8935744416007677|                 0.0|\n",
      "|   163792| 464297034|             1|        0.0|  0.7610023809529602|                 0.0|\n",
      "|  1040997| 464297034|             1|        0.0|  0.8031399399126765|                 0.0|\n",
      "|   245466| 464297034|             1|        0.0|  0.5906826620075191|                 0.0|\n",
      "|    51754| 464297034|             1|        0.0|  0.3617008134187961|                 0.0|\n",
      "|   895718| 464297034|             1|        0.0|  0.7132631449045097|                 0.0|\n",
      "|  1038180| 464297034|             1|        NaN|0.016160906016991716|0.016160906016991716|\n",
      "|   498682| 464297034|             1|        0.0| 0.19180009473926352|                 0.0|\n",
      "|   539389| 464297034|             1|        0.0|  0.4353195699970932|                 0.0|\n",
      "|   162514| 464297034|             1|        0.0|  0.7238348046455931|                 0.0|\n",
      "|   574990| 464297034|             1|        NaN|  0.3242352705869308|  0.3242352705869308|\n",
      "|  1034305| 464297034|             1|        NaN| 0.14745346916270952| 0.14745346916270952|\n",
      "+---------+----------+--------------+-----------+--------------------+--------------------+\n",
      "only showing top 20 rows\n",
      "\n"
     ]
    }
   ],
   "source": [
    "predictions.show()"
   ]
  },
  {
   "cell_type": "code",
   "execution_count": 99,
   "id": "48d6d886-f032-467d-855e-1f4e6759c4b7",
   "metadata": {},
   "outputs": [],
   "source": [
    "predictions = predictions.select('client_id', 'article_id', 'prediction2')"
   ]
  },
  {
   "cell_type": "code",
   "execution_count": 100,
   "id": "a17505f5-97bb-4f42-a49e-92109d0a531d",
   "metadata": {},
   "outputs": [],
   "source": [
    "predictions = predictions.withColumnRenamed('prediction2', 'prediction')"
   ]
  },
  {
   "cell_type": "code",
   "execution_count": 101,
   "id": "5099422a-f59d-4393-b400-7c26a485cde1",
   "metadata": {},
   "outputs": [
    {
     "data": {
      "text/plain": [
       "DataFrame[client_id: int, article_id: int, prediction: double]"
      ]
     },
     "execution_count": 101,
     "metadata": {},
     "output_type": "execute_result"
    }
   ],
   "source": [
    "predictions"
   ]
  },
  {
   "cell_type": "code",
   "execution_count": 102,
   "id": "d5590301-f339-4f2e-a97b-98738ebccff2",
   "metadata": {},
   "outputs": [
    {
     "name": "stdout",
     "output_type": "stream",
     "text": [
      "+---------+----------+--------------------+\n",
      "|client_id|article_id|          prediction|\n",
      "+---------+----------+--------------------+\n",
      "|   549115| 309434011|                 0.0|\n",
      "|   205929| 309434011|9.481082088313997E-5|\n",
      "|   802713| 309434011| 0.26162677745559826|\n",
      "|   417183| 464297034|                 0.0|\n",
      "|   605135| 464297034|                 0.0|\n",
      "|  1054640| 464297034|                 0.0|\n",
      "|   728517| 464297034|                 0.0|\n",
      "|   405281| 464297034|                 0.0|\n",
      "|   141714| 464297034|                 0.0|\n",
      "|   163792| 464297034|                 0.0|\n",
      "|  1040997| 464297034|                 0.0|\n",
      "|   245466| 464297034|                 0.0|\n",
      "|    51754| 464297034|                 0.0|\n",
      "|   895718| 464297034|                 0.0|\n",
      "|  1038180| 464297034|0.016160906016991716|\n",
      "|   498682| 464297034|                 0.0|\n",
      "|   539389| 464297034|                 0.0|\n",
      "|   162514| 464297034|                 0.0|\n",
      "|   574990| 464297034|  0.3242352705869308|\n",
      "|  1034305| 464297034| 0.14745346916270952|\n",
      "+---------+----------+--------------------+\n",
      "only showing top 20 rows\n",
      "\n"
     ]
    }
   ],
   "source": [
    "predictions.show()"
   ]
  },
  {
   "cell_type": "code",
   "execution_count": 35,
   "id": "f8ec98f4-fbd2-4e2b-990d-12ce77a01d8d",
   "metadata": {},
   "outputs": [
    {
     "name": "stdout",
     "output_type": "stream",
     "text": [
      "Root-mean-square error = 1.2337670324870431\n"
     ]
    }
   ],
   "source": [
    "rmse = evaluator.evaluate(predictions)\n",
    "print(\"Root-mean-square error = \" + str(rmse))"
   ]
  },
  {
   "cell_type": "markdown",
   "id": "a7d4b699-8d92-4b94-b79d-551dce131667",
   "metadata": {},
   "source": [
    "Contrucción de metrica de validación Rank Ordering Error Metric"
   ]
  },
  {
   "cell_type": "code",
   "execution_count": 25,
   "id": "ecf9bcb3-520b-4c2a-8e34-58203ed707bd",
   "metadata": {},
   "outputs": [],
   "source": [
    "#w = Window.partitionBy(predictions.client_id).orderBy(prediction.value) #assuming default ascending order\n",
    "w = Window.partitionBy('client_id').orderBy(desc('prediction'))"
   ]
  },
  {
   "cell_type": "code",
   "execution_count": 26,
   "id": "d9e13759-c838-4caa-be92-89d659e7be29",
   "metadata": {},
   "outputs": [],
   "source": [
    "predictions = predictions.withColumn(\"perc_by_clt_id\", F.percent_rank().over(w))"
   ]
  },
  {
   "cell_type": "code",
   "execution_count": 27,
   "id": "60f30c0b-d17e-45e1-8687-1e5e40a94938",
   "metadata": {},
   "outputs": [
    {
     "name": "stdout",
     "output_type": "stream",
     "text": [
      "+---------+----------+--------------+----------+--------------------+\n",
      "|client_id|article_id|purchase_count|prediction|      perc_by_clt_id|\n",
      "+---------+----------+--------------+----------+--------------------+\n",
      "|      148| 673396002|             2| 1.3635318|                 0.0|\n",
      "|      148| 484398001|             1| 1.3448731|3.653635367190354...|\n",
      "|      148| 692930001|             1| 1.3347859|7.307270734380709E-4|\n",
      "|      148| 673677002|             1| 1.3339019|0.001096090610157...|\n",
      "|      148| 610776001|             2| 1.3334247|0.001461454146876...|\n",
      "|      148| 610776001|             1| 1.3334247|0.001461454146876...|\n",
      "|      148| 615141002|             1| 1.3313997|0.002192181220314...|\n",
      "|      148| 749699002|             1|  1.326562|0.002557544757033...|\n",
      "|      148| 759871002|             1| 1.3263025|0.002922908293752...|\n",
      "|      148| 759871002|             1| 1.3263025|0.002922908293752...|\n",
      "|      148| 759871002|             1| 1.3263025|0.002922908293752...|\n",
      "|      148| 720125001|             1| 1.3238938| 0.00401899890390939|\n",
      "|      148| 610776002|             2| 1.3233627|0.004384362440628425|\n",
      "|      148| 610776002|             1| 1.3233627|0.004384362440628425|\n",
      "|      148| 537116001|             2| 1.3189808|0.005115089514066497|\n",
      "|      148| 537116001|             1| 1.3189808|0.005115089514066497|\n",
      "|      148| 706016003|             1| 1.3180503|0.005845816587504567|\n",
      "|      148| 372860001|             6| 1.3175579|0.006211180124223602|\n",
      "|      148| 372860001|             1| 1.3175579|0.006211180124223602|\n",
      "|      148| 372860001|             1| 1.3175579|0.006211180124223602|\n",
      "+---------+----------+--------------+----------+--------------------+\n",
      "only showing top 20 rows\n",
      "\n"
     ]
    }
   ],
   "source": [
    "predictions.show()"
   ]
  },
  {
   "cell_type": "code",
   "execution_count": 28,
   "id": "bb155ce6-85e2-44dc-b52d-3d0cb29cd23d",
   "metadata": {},
   "outputs": [],
   "source": [
    "predictions = predictions.withColumn(\"r*rank\", predictions.purchase_count*predictions.perc_by_clt_id)"
   ]
  },
  {
   "cell_type": "code",
   "execution_count": 29,
   "id": "e8d98a61-fd86-4dd2-aca5-84cbffdef9d1",
   "metadata": {},
   "outputs": [
    {
     "data": {
      "text/plain": [
       "DataFrame[client_id: int, article_id: int, purchase_count: int, prediction: float, perc_by_clt_id: double, r*rank: double]"
      ]
     },
     "execution_count": 29,
     "metadata": {},
     "output_type": "execute_result"
    }
   ],
   "source": [
    "predictions"
   ]
  },
  {
   "cell_type": "markdown",
   "id": "3ea20b68-c7af-498d-96fd-35e104f6fde4",
   "metadata": {},
   "source": [
    "Calculo ROEM"
   ]
  },
  {
   "cell_type": "code",
   "execution_count": 30,
   "id": "39a04acf-976a-425c-be7d-069d1a373414",
   "metadata": {},
   "outputs": [],
   "source": [
    "numerador = predictions.agg({'r*rank': 'sum'}).collect()[0][0]"
   ]
  },
  {
   "cell_type": "code",
   "execution_count": 32,
   "id": "305d01a0-4937-4375-a06b-f1fbd7722c61",
   "metadata": {},
   "outputs": [],
   "source": [
    "denominador = predictions.agg({'purchase_count': 'sum'}).collect()[0][0]"
   ]
  },
  {
   "cell_type": "code",
   "execution_count": 33,
   "id": "6c658e72-d0ef-4f75-be27-419aa88d6363",
   "metadata": {},
   "outputs": [
    {
     "name": "stdout",
     "output_type": "stream",
     "text": [
      "ROEM:  0.49166709968738637\n"
     ]
    }
   ],
   "source": [
    "print(\"ROEM: \", numerador * 1.0/denominador )"
   ]
  },
  {
   "cell_type": "markdown",
   "id": "c8690b1f-2dfb-496d-ae12-7aa6c6225c99",
   "metadata": {},
   "source": [
    "Como podemos observar el valor del ROEM esta ligeramente por debajo de 0.5, lo que significa que nuestro sistema de recomendación es casi igual a dar recomendaciones al azar. La cuestión entonces es saber si podemos mejorar la recomendación. "
   ]
  },
  {
   "cell_type": "markdown",
   "id": "68b6a37b-3bde-40c1-bae1-4137fb3ec80f",
   "metadata": {},
   "source": [
    "### Buscando el mejor modelo"
   ]
  },
  {
   "cell_type": "code",
   "execution_count": 108,
   "id": "74e05058-f320-49d9-89d3-0fca135a5fe4",
   "metadata": {},
   "outputs": [],
   "source": [
    "def prediction_nan(predictions):\n",
    "    predictions = predictions.withColumn(\"rand\", rand())\n",
    "    predictions = predictions.withColumn('prediction2', F.when(isnan('prediction'), col('rand')).otherwise(col(\"prediction\")))\n",
    "    predictions = predictions.select('client_id', 'article_id', 'prediction2')\n",
    "    predictions = predictions.withColumnRenamed('prediction2', 'prediction')\n",
    "    return predictions"
   ]
  },
  {
   "cell_type": "code",
   "execution_count": 15,
   "id": "23fce7ae-45b7-49cf-944f-163f6eb261cd",
   "metadata": {},
   "outputs": [],
   "source": [
    "#Calculo del ROEM\n",
    "def ROEM(predictions):\n",
    "    w = Window.partitionBy('client_id').orderBy(desc('prediction'))\n",
    "    predictions = predictions.withColumn(\"perc_by_clt_id\", F.percent_rank().over(w))\n",
    "    predictions = predictions.withColumn(\"r*rank\", predictions.purchase_count*predictions.perc_by_clt_id)\n",
    "    numerador = predictions.agg({'r*rank': 'sum'}).collect()[0][0]\n",
    "    denominador = predictions.agg({'purchase_count': 'sum'}).collect()[0][0]\n",
    "    return numerador * 1.0/denominador  "
   ]
  },
  {
   "cell_type": "code",
   "execution_count": 131,
   "id": "2f15c0f2-7966-403f-97ae-c15cb761afd0",
   "metadata": {},
   "outputs": [],
   "source": [
    "predictions = prediction_nan(predictions)"
   ]
  },
  {
   "cell_type": "code",
   "execution_count": 132,
   "id": "9e933370-24b6-4a02-a93c-de3c50276217",
   "metadata": {},
   "outputs": [
    {
     "data": {
      "text/plain": [
       "DataFrame[client_id: int, article_id: int, purchase_count: int, prediction: double]"
      ]
     },
     "execution_count": 132,
     "metadata": {},
     "output_type": "execute_result"
    }
   ],
   "source": [
    "predictions"
   ]
  },
  {
   "cell_type": "code",
   "execution_count": 110,
   "id": "a62caa11-5403-4148-9aac-f874a1933243",
   "metadata": {},
   "outputs": [
    {
     "name": "stdout",
     "output_type": "stream",
     "text": [
      "+---------+----------+----------+\n",
      "|client_id|article_id|prediction|\n",
      "+---------+----------+----------+\n",
      "|        0|         0|         0|\n",
      "+---------+----------+----------+\n",
      "\n"
     ]
    }
   ],
   "source": [
    "predictions.select([count(when(isnan(c) | col(c).isNull(), c)).alias(c) for c in predictions.columns]).show()"
   ]
  },
  {
   "cell_type": "code",
   "execution_count": 46,
   "id": "1a98dd0b-f937-4fbd-9f16-677405e563ee",
   "metadata": {},
   "outputs": [
    {
     "data": {
      "text/plain": [
       "0.49221447500380505"
      ]
     },
     "execution_count": 46,
     "metadata": {},
     "output_type": "execute_result"
    }
   ],
   "source": [
    "ROEM(predictions)"
   ]
  },
  {
   "cell_type": "markdown",
   "id": "9b276ef8-6994-4566-af1b-38bae059ae81",
   "metadata": {},
   "source": [
    "Definimos los distintos valores a probar"
   ]
  },
  {
   "cell_type": "code",
   "execution_count": 7,
   "id": "66d51175-6d9f-4cbd-b808-c604c338e09f",
   "metadata": {},
   "outputs": [],
   "source": [
    "ranks = [10, 20, 30, 40]\n",
    "maxIters = [10, 20]\n",
    "regParams = [.05, .1, .15]\n",
    "alphas = [20, 40, 60, 80]"
   ]
  },
  {
   "cell_type": "code",
   "execution_count": 13,
   "id": "8042fc3b-5ce6-4121-bff4-e1550d887d1a",
   "metadata": {},
   "outputs": [],
   "source": [
    "# For loop will automatically create and store ALS models\n",
    "model_list = []\n",
    "for r in ranks:\n",
    "    for mi in maxIters:\n",
    "        for rp in regParams:\n",
    "            for a in alphas:\n",
    "                model_list.append(ALS(userCol= \"client_id\", itemCol= \"article_id\", ratingCol= \"purchase_count\", rank = r, maxIter = mi, regParam = rp, alpha = a, coldStartStrategy=\"drop\", nonnegative = True, implicitPrefs = True))"
   ]
  },
  {
   "cell_type": "code",
   "execution_count": 9,
   "id": "e30434bf-3eb3-4c1d-b72e-9ef7f1cd425b",
   "metadata": {},
   "outputs": [
    {
     "name": "stdout",
     "output_type": "stream",
     "text": [
      "[ALS_6f53cdabda97, ALS_ae48e424e103, ALS_1c1a60177a7f, ALS_a003d81589ea, ALS_d4a1c898dc7d, ALS_81a2b492ae2f, ALS_b2d1c08d925d, ALS_095733ddf5e8, ALS_f2cb3a247fa8, ALS_ac07b9d10f09, ALS_392667f08698, ALS_e2366b84f867, ALS_2934c2b37804, ALS_466a6633b4a5, ALS_fe47413616ea, ALS_d901483fa357, ALS_1aa45d2e990c, ALS_56157fe34093, ALS_8b5aa47f94f2, ALS_99288e0297f8, ALS_8e66ec5bea10, ALS_dd981df9e27e, ALS_733d2ca1963e, ALS_4ca7ba1df88c, ALS_5ec2107b6e3a, ALS_67631726b628, ALS_33b94a247429, ALS_3888df15f5f4, ALS_1b239f96312d, ALS_fa676f84396d, ALS_be20abc30660, ALS_d31e726d7d24, ALS_1819669205bf, ALS_926ed3c4763b, ALS_1f3cad81b6c3, ALS_c41e2120d9de, ALS_9dd38f8e5c2d, ALS_829f5fa30b0d, ALS_0d5031ac01e9, ALS_1b611752452e, ALS_9370f18a41bc, ALS_776255a36dde, ALS_c4f0484cffb9, ALS_55484541f267, ALS_e704ae5fce74, ALS_78c2ddfea683, ALS_d72be1bbf556, ALS_3204b1ffbbd8, ALS_3def7abdbce1, ALS_36f97bba76a8, ALS_1b792027f745, ALS_f6fb4e81369d, ALS_a5811b10d727, ALS_7613ddee6b25, ALS_41f216c604cd, ALS_825c0bf63683, ALS_89e81af2e3cd, ALS_823c6b838664, ALS_7587ffe3ee5b, ALS_3f5601ffc098, ALS_f89c3088e64d, ALS_af96f83d0736, ALS_cb13bd63e18e, ALS_74db3a9c5ba8, ALS_330be2ad5209, ALS_32281e387091, ALS_98f6af257212, ALS_426e49f7c2e3, ALS_167e1a1d8fea, ALS_5142320db6f9, ALS_1b44dcafebc2, ALS_625210a0135f, ALS_3fa4db74fcfc, ALS_4208dae1611b, ALS_103a898c1396, ALS_00766ac98562, ALS_67c3ee948719, ALS_5b483e1a74b6, ALS_3eb02d45104b, ALS_e5024f8fbc2f, ALS_80fa72948238, ALS_238a0d22ef16, ALS_c4850bb77b68, ALS_c788bb43b725, ALS_00993ae8ff87, ALS_0e8a75537226, ALS_76d653ebc6fd, ALS_65bd4d09605f, ALS_428901bdcc24, ALS_66801e5db969, ALS_76f1ccb7219b, ALS_baa78085abd7, ALS_4ef056b7021a, ALS_535cb87abeb6, ALS_3d981c379e14, ALS_61ce2efa28b8] Length of model_list:  96\n"
     ]
    }
   ],
   "source": [
    "# Print the model list, and the length of model_list\n",
    "print (model_list, \"Length of model_list: \", len(model_list))\n"
   ]
  },
  {
   "cell_type": "code",
   "execution_count": 10,
   "id": "81f43823-0bd1-47fe-86f6-14042f241e3d",
   "metadata": {},
   "outputs": [
    {
     "data": {
      "text/plain": [
       "True"
      ]
     },
     "execution_count": 10,
     "metadata": {},
     "output_type": "execute_result"
    }
   ],
   "source": [
    "# Validate\n",
    "len(model_list) == (len(ranks)*len(maxIters)*len(regParams)*len(alphas))"
   ]
  },
  {
   "cell_type": "code",
   "execution_count": null,
   "id": "16ba124f-883c-43b0-ab2d-8581f003b906",
   "metadata": {},
   "outputs": [],
   "source": [
    "model_list_test = model_list[18:97]\n",
    "model_list_test"
   ]
  },
  {
   "cell_type": "code",
   "execution_count": 23,
   "id": "2fdffe26-8753-4898-a64b-742c8e530c1f",
   "metadata": {},
   "outputs": [
    {
     "data": {
      "text/plain": [
       "ALS_ffb764d1a580"
      ]
     },
     "execution_count": 23,
     "metadata": {},
     "output_type": "execute_result"
    }
   ],
   "source": [
    "model_list_comp[0]"
   ]
  },
  {
   "cell_type": "code",
   "execution_count": 24,
   "id": "728a60d2-cfc5-4b0d-aad0-c76295b402c2",
   "metadata": {
    "collapsed": true,
    "jupyter": {
     "outputs_hidden": true
    },
    "tags": []
   },
   "outputs": [
    {
     "data": {
      "text/plain": [
       "[ALS_df6ea789b627,\n",
       " ALS_9d94df131428,\n",
       " ALS_05258afe7897,\n",
       " ALS_a779797fa72b,\n",
       " ALS_752e115ce5ee,\n",
       " ALS_599a11f4b70a,\n",
       " ALS_7736994d8f87,\n",
       " ALS_8af5a169c89d,\n",
       " ALS_2946ab8a220e,\n",
       " ALS_86f0ce52940c,\n",
       " ALS_fca0d978f2ed,\n",
       " ALS_a5bebecdf302,\n",
       " ALS_f380e021c285,\n",
       " ALS_0dd6ffdfd403,\n",
       " ALS_c38d289d579d,\n",
       " ALS_cde010b6b82f,\n",
       " ALS_183548ce9fb6,\n",
       " ALS_7a32246222c6,\n",
       " ALS_e1dd3675813b,\n",
       " ALS_f10f9f1a847c,\n",
       " ALS_b57552d6e310,\n",
       " ALS_b000dc84dcbc,\n",
       " ALS_3018300254b8,\n",
       " ALS_a1eb71050c9c,\n",
       " ALS_98977fb647ce,\n",
       " ALS_220c595c7162,\n",
       " ALS_5646cedbdfe2,\n",
       " ALS_4e7456551fff,\n",
       " ALS_7a6a611b5c73,\n",
       " ALS_8e4af4adf7f1,\n",
       " ALS_275e8b459704,\n",
       " ALS_a20c66b60814,\n",
       " ALS_b2c8771b40da,\n",
       " ALS_d4893499d8b2,\n",
       " ALS_39a614b0b352,\n",
       " ALS_d5510554f69f,\n",
       " ALS_c8e8f4d68069,\n",
       " ALS_d06d077b13c9,\n",
       " ALS_f9899ac21fda,\n",
       " ALS_7d8309d8011d,\n",
       " ALS_5aac4e3c1bd5,\n",
       " ALS_a9926f21e243,\n",
       " ALS_a7f5f3a07786,\n",
       " ALS_3939aaca1267,\n",
       " ALS_2179e8757eff,\n",
       " ALS_994832ebba80,\n",
       " ALS_87055211cbd1,\n",
       " ALS_cc1c9f74c5d6,\n",
       " ALS_fb8549d19928,\n",
       " ALS_7b498b4b3877,\n",
       " ALS_4d907ab83394,\n",
       " ALS_8b80cd443a72,\n",
       " ALS_5e06e9f93b58,\n",
       " ALS_3c44ba53f919,\n",
       " ALS_4afbeaa65053,\n",
       " ALS_9aaaecb3bfc2,\n",
       " ALS_a160ffc0390a,\n",
       " ALS_71979dd973b4,\n",
       " ALS_25ee9224e341,\n",
       " ALS_79c2d29c57ba,\n",
       " ALS_31e5b68a8acb,\n",
       " ALS_6cdd9fae6a6f,\n",
       " ALS_7b66e5e29218,\n",
       " ALS_547999932e94,\n",
       " ALS_b2174b9adaab,\n",
       " ALS_07f988a9c0e8,\n",
       " ALS_84c3b9c4b434,\n",
       " ALS_dcad4f70c20f,\n",
       " ALS_79ccbec588b2,\n",
       " ALS_e116e887445a,\n",
       " ALS_d67df0f29ff5,\n",
       " ALS_2af10017504a,\n",
       " ALS_59512a9fb1fa,\n",
       " ALS_98d5d0215c6b,\n",
       " ALS_03a836476907,\n",
       " ALS_e8748524eda1,\n",
       " ALS_b3688e459412,\n",
       " ALS_cef419df3517,\n",
       " ALS_040714f97f42,\n",
       " ALS_e6ebc1703d43,\n",
       " ALS_1b882f9c1763,\n",
       " ALS_d149fd57b38a,\n",
       " ALS_1a04532cd5e8,\n",
       " ALS_150dcbc0ab7d,\n",
       " ALS_6352a2e54c97,\n",
       " ALS_82a5d70dc32c,\n",
       " ALS_ef5805b86a22,\n",
       " ALS_95ead38ffcbd,\n",
       " ALS_3366e7a9df41,\n",
       " ALS_cf5840bec869,\n",
       " ALS_c6bfee084e69,\n",
       " ALS_4c7a986559cd,\n",
       " ALS_28a15a4d2806,\n",
       " ALS_43583cd5e4c0,\n",
       " ALS_1db8d3ce4dd4,\n",
       " ALS_4bc3a8e1c54a,\n",
       " ALS_05d31dd5edef,\n",
       " ALS_914e95a2935c,\n",
       " ALS_bcfc1686411a,\n",
       " ALS_6c1523e70da0,\n",
       " ALS_ba2cfa592a5c,\n",
       " ALS_7906aa04df32,\n",
       " ALS_a38cffa61a34,\n",
       " ALS_1d1cfecfdcce,\n",
       " ALS_e7c8161e5a71,\n",
       " ALS_5987bb1bf299,\n",
       " ALS_6ab93a63b2d4,\n",
       " ALS_65310491a24d,\n",
       " ALS_8b4ea43a49d1,\n",
       " ALS_1325dff438d0,\n",
       " ALS_13b1b9193fdf,\n",
       " ALS_ec78e71dc810,\n",
       " ALS_1e3d4a70f39a,\n",
       " ALS_fe60743b0d19,\n",
       " ALS_a89faad72d10,\n",
       " ALS_2305c77c3b5a,\n",
       " ALS_b02537b60fb2,\n",
       " ALS_edbb6ead1b31,\n",
       " ALS_b8e74cf670eb,\n",
       " ALS_1cfbe56a3619,\n",
       " ALS_c719a423ff85,\n",
       " ALS_36cd5670f9ec,\n",
       " ALS_6ec7dd3c0615,\n",
       " ALS_116a343f9831,\n",
       " ALS_5c7bf42d4368,\n",
       " ALS_88e529663a38,\n",
       " ALS_b56d7f8ba779,\n",
       " ALS_daf85f78038c,\n",
       " ALS_6dd7e798a6c4,\n",
       " ALS_caa61a81c814,\n",
       " ALS_d96703e05379,\n",
       " ALS_559e5a37a7be,\n",
       " ALS_75aedf8919e4,\n",
       " ALS_a5108e141c75,\n",
       " ALS_e18ad81cba86,\n",
       " ALS_4c25cb44b1c6,\n",
       " ALS_2f6fedc64365,\n",
       " ALS_86ed5b7d6160,\n",
       " ALS_566fd8349ef6,\n",
       " ALS_388fe6d6de3a,\n",
       " ALS_290c623b1035,\n",
       " ALS_eb4afdf4de2e,\n",
       " ALS_db58b4f343c7,\n",
       " ALS_4e0f155cb206,\n",
       " ALS_148347a4bb02,\n",
       " ALS_5e9dddbbe5b0,\n",
       " ALS_8e28086b8418,\n",
       " ALS_109b7944b523,\n",
       " ALS_9e16f3ae758d,\n",
       " ALS_6d8496104909,\n",
       " ALS_d7a673aea397,\n",
       " ALS_5f53b684f182,\n",
       " ALS_d8646c2ccfef,\n",
       " ALS_cf99d067e582,\n",
       " ALS_fec916a5693b,\n",
       " ALS_8034712b8f24,\n",
       " ALS_1d47ad6d10e6,\n",
       " ALS_cab8ab4e17a9,\n",
       " ALS_10b53a2e2b65,\n",
       " ALS_61d230d9b8ce,\n",
       " ALS_e24d300c0c3f,\n",
       " ALS_8f5f78ea172a,\n",
       " ALS_6c1cb7269f90,\n",
       " ALS_6caa9b6003c0,\n",
       " ALS_f73927f5f7a2,\n",
       " ALS_cc60b0c31b15,\n",
       " ALS_8444eacdff82,\n",
       " ALS_84680dfd7461,\n",
       " ALS_bcb583aadf06,\n",
       " ALS_882a92da5081,\n",
       " ALS_25ebde9981ac,\n",
       " ALS_9c2820093ecf,\n",
       " ALS_a376a3546e72,\n",
       " ALS_8590841d3cee,\n",
       " ALS_d9a9ef673c22,\n",
       " ALS_cb2c80c4d4c6,\n",
       " ALS_bbf5f2f7330c,\n",
       " ALS_2d1cdde83f5d,\n",
       " ALS_667d33eb5f69,\n",
       " ALS_7d86d2c9880b]"
      ]
     },
     "execution_count": 24,
     "metadata": {},
     "output_type": "execute_result"
    }
   ],
   "source": [
    "model_list_comp = model_list[12:193]\n",
    "model_list_comp"
   ]
  },
  {
   "cell_type": "code",
   "execution_count": 51,
   "id": "d6742cd1-2e07-4e56-b654-24b4595db7c9",
   "metadata": {},
   "outputs": [],
   "source": [
    "# Lista donde guardar los resultados\n",
    "ROEMS = []"
   ]
  },
  {
   "cell_type": "code",
   "execution_count": null,
   "id": "4d5c19b9-8e74-43c9-b44b-23d287b77d03",
   "metadata": {
    "tags": []
   },
   "outputs": [],
   "source": [
    "# Buscamos a través de los distintos modelos\n",
    "for als in model_list:\n",
    "    #Ajuste del modelo\n",
    "    fitted_model = als.fit(training)\n",
    "    predictions = fitted_model.transform(test)\n",
    "    ROEM_v = ROEM(predictions)\n",
    "\n",
    "    # Guardamos los resultados y los vamos mostrando\n",
    "    ROEMS.append(ROEM_v)\n",
    "    print (\"Validation ROEM: \", ROEM_v)"
   ]
  },
  {
   "cell_type": "code",
   "execution_count": 38,
   "id": "4d864874-3c6c-4433-8e61-5602c3247ee3",
   "metadata": {},
   "outputs": [],
   "source": [
    "als = ALS(userCol= \"client_id\", itemCol= \"article_id\", ratingCol= \"purchase_count\", \n",
    "          rank = 10, maxIter = 20, regParam = 0.1, alpha = 40, \n",
    "          coldStartStrategy=\"drop\", nonnegative = True, implicitPrefs = True)"
   ]
  },
  {
   "cell_type": "code",
   "execution_count": 39,
   "id": "69b2b866-4913-47e0-b545-a7d23d2acf24",
   "metadata": {},
   "outputs": [],
   "source": [
    "model = als.fit(training)"
   ]
  },
  {
   "cell_type": "code",
   "execution_count": 40,
   "id": "27e1606c-173b-410f-9323-0a8995f1c864",
   "metadata": {},
   "outputs": [],
   "source": [
    "predictions = model.transform(test)"
   ]
  },
  {
   "cell_type": "code",
   "execution_count": null,
   "id": "838fe2c2-7d8c-4c3a-969a-f843fc9b2ae7",
   "metadata": {},
   "outputs": [],
   "source": [
    "ROEM(predictions)"
   ]
  },
  {
   "cell_type": "code",
   "execution_count": 41,
   "id": "addbd58e-2648-4f0d-852d-43ef3bc4f724",
   "metadata": {},
   "outputs": [],
   "source": [
    "w = Window.partitionBy('client_id').orderBy(desc('prediction'))   "
   ]
  },
  {
   "cell_type": "code",
   "execution_count": 42,
   "id": "8475b4cc-1757-48c5-9e23-c998149d61bf",
   "metadata": {},
   "outputs": [],
   "source": [
    "predictions = predictions.withColumn(\"perc_by_clt_id\", F.percent_rank().over(w))"
   ]
  },
  {
   "cell_type": "code",
   "execution_count": 43,
   "id": "ee59e16b-5dd1-4709-ae75-67b13b7d0d05",
   "metadata": {},
   "outputs": [],
   "source": [
    "predictions = predictions.withColumn(\"r*rank\", predictions.purchase_count*predictions.perc_by_clt_id)"
   ]
  },
  {
   "cell_type": "code",
   "execution_count": 44,
   "id": "edc6deb2-3af4-4136-ac9d-0061549ebee1",
   "metadata": {},
   "outputs": [
    {
     "name": "stdout",
     "output_type": "stream",
     "text": [
      "+-----------------+\n",
      "|      sum(r*rank)|\n",
      "+-----------------+\n",
      "|2939481.161661525|\n",
      "+-----------------+\n",
      "\n"
     ]
    }
   ],
   "source": [
    "predictions.agg({'r*rank': 'sum'}).show()"
   ]
  },
  {
   "cell_type": "code",
   "execution_count": 46,
   "id": "ae901415-8076-4a7b-bfc9-4e1ab10e352b",
   "metadata": {},
   "outputs": [
    {
     "name": "stdout",
     "output_type": "stream",
     "text": [
      "+-------------------+\n",
      "|sum(purchase_count)|\n",
      "+-------------------+\n",
      "|            6297629|\n",
      "+-------------------+\n",
      "\n"
     ]
    }
   ],
   "source": [
    "predictions.agg({'purchase_count': 'sum'}).show()"
   ]
  },
  {
   "cell_type": "markdown",
   "id": "310aeadb-325d-45b8-ac11-fbddfd0cc5fe",
   "metadata": {},
   "source": [
    "### Funciones antes de iterar"
   ]
  },
  {
   "cell_type": "code",
   "execution_count": 6,
   "id": "3af225cc-27bb-49f4-be91-994339e2d7ca",
   "metadata": {},
   "outputs": [],
   "source": [
    "def prediction_nan(predictions):\n",
    "    predictions = predictions.withColumn(\"rand\", rand())\n",
    "    predictions = predictions.withColumn('prediction2', F.when(isnan('prediction'), col('rand')).otherwise(col(\"prediction\")))\n",
    "    predictions = predictions.select('client_id', 'article_id','purchase_count','prediction2')\n",
    "    predictions = predictions.withColumnRenamed('prediction2', 'prediction')\n",
    "    return predictions"
   ]
  },
  {
   "cell_type": "code",
   "execution_count": 7,
   "id": "68e6ca4b-b860-442e-82bf-82cd278220e2",
   "metadata": {},
   "outputs": [],
   "source": [
    "#Calculo del ROEM\n",
    "def ROEM(predictions):\n",
    "    w = Window.partitionBy('client_id').orderBy(desc('prediction'))\n",
    "    predictions = predictions.withColumn(\"perc_by_clt_id\", F.percent_rank().over(w))\n",
    "    predictions = predictions.withColumn(\"r*rank\", predictions.purchase_count*predictions.perc_by_clt_id)\n",
    "    numerador = predictions.agg({'r*rank': 'sum'}).collect()[0][0]\n",
    "    denominador = predictions.agg({'purchase_count': 'sum'}).collect()[0][0]\n",
    "    return numerador * 1.0/denominador  "
   ]
  },
  {
   "cell_type": "markdown",
   "id": "de20657a-e0ff-4b81-b895-c4c951cbf07b",
   "metadata": {},
   "source": [
    "**Modelo por tipo de producto. Zapatos**"
   ]
  },
  {
   "cell_type": "code",
   "execution_count": 135,
   "id": "6af1f3b8-5373-4fb3-837e-97ecfb9044cf",
   "metadata": {},
   "outputs": [],
   "source": [
    "ranks = [10, 20, 30, 40]\n",
    "maxIters = [5, 10]\n",
    "regParams = [.001, .01, .1]\n",
    "alphas = [1, 10, 100]"
   ]
  },
  {
   "cell_type": "code",
   "execution_count": 136,
   "id": "998f2d76-f52b-49ec-aa84-aade2fe23a17",
   "metadata": {},
   "outputs": [],
   "source": [
    "# For loop will automatically create and store ALS models\n",
    "model_list = []\n",
    "for r in ranks:\n",
    "    for mi in maxIters:\n",
    "        for rp in regParams:\n",
    "            for a in alphas:\n",
    "                model_list.append(ALS(userCol= \"client_id\", itemCol= \"article_id\", ratingCol= \"purchase_count\", rank = r, maxIter = mi, regParam = rp, alpha = a, coldStartStrategy=\"drop\", nonnegative = True, implicitPrefs = True))"
   ]
  },
  {
   "cell_type": "code",
   "execution_count": 137,
   "id": "0769f271-062c-4652-8df7-844a00869e9d",
   "metadata": {},
   "outputs": [
    {
     "name": "stdout",
     "output_type": "stream",
     "text": [
      "[ALS_824e163fcd90, ALS_37ef56342b97, ALS_d4db8ba00480, ALS_43bacbc47777, ALS_6071fb8fe13e, ALS_f416c23dd619, ALS_2ab02fd94858, ALS_a36b24bb1c30, ALS_7ce70862a85d, ALS_ef94089c7cf9, ALS_c16880baafef, ALS_642e1ed49c1d, ALS_dd460f732420, ALS_eb316782fac1, ALS_604d2b921cbd, ALS_550b790ed968, ALS_f404679703bb, ALS_96c0604adaed, ALS_7e3c7c19611e, ALS_49afc6509b03, ALS_199b4abda64a, ALS_e6a4d2c1e0a1, ALS_7872df4b70a2, ALS_1f8597314f50, ALS_73bc73616bed, ALS_db9ab9b91593, ALS_e4df1988b748, ALS_f4fcd56e8ce0, ALS_9da9c19fd142, ALS_ce782a02acc9, ALS_6ba8a27aef05, ALS_23cfd39a8ff5, ALS_c6c43ba02d91, ALS_6a83bd4f9193, ALS_e6de7cbe0e0f, ALS_6b406a241e64, ALS_318a370c3e19, ALS_3f1f4f2ebdd6, ALS_3528d6743c70, ALS_926c042075a4, ALS_ac3a58d2f36f, ALS_fc0d6ae93075, ALS_1291d0c97080, ALS_577004033855, ALS_1c29ac48e0ed, ALS_0933a1ad79af, ALS_b7764385162a, ALS_106c31937291, ALS_b863b66fc421, ALS_e8a5df7dbd55, ALS_6da65b132a69, ALS_c22e096d0305, ALS_b7f0ef257b87, ALS_e624559d5610, ALS_12fc406608bd, ALS_e81c9afd6057, ALS_294fb8f3cfb1, ALS_d1b3eeb1f333, ALS_025ed4bd0982, ALS_fd313978221a, ALS_a174593e8e59, ALS_f0005ad619c4, ALS_68cb0572eacd, ALS_e0baf5c92c40, ALS_f55643766bc3, ALS_53e096f4750d, ALS_50fef2bd001d, ALS_31f0d0f3e5ee, ALS_0aeb179ac09a, ALS_cc49eaddb422, ALS_64824e56ad6b, ALS_066977d692e6] Length of model_list:  72\n"
     ]
    }
   ],
   "source": [
    "print (model_list, \"Length of model_list: \", len(model_list))"
   ]
  },
  {
   "cell_type": "code",
   "execution_count": 67,
   "id": "bbe27890-df69-4ec2-b355-e05a82b6cf6d",
   "metadata": {},
   "outputs": [],
   "source": [
    "transactions_shoes = spark.read.csv(\"Data_sets_articulos/transactions_shoes.csv\", header = True)"
   ]
  },
  {
   "cell_type": "code",
   "execution_count": 68,
   "id": "909a7da7-6cca-4cde-b273-6ae395187065",
   "metadata": {},
   "outputs": [],
   "source": [
    "transactions_shoes=transactions_shoes.withColumn(\"article_id\",transactions_shoes.article_id.cast('integer'))\n",
    "transactions_shoes=transactions_shoes.withColumn(\"client_id\",transactions_shoes.client_id.cast('integer'))\n",
    "transactions_shoes=transactions_shoes.withColumn(\"purchase_count\",transactions_shoes.purchase_count.cast('integer'))"
   ]
  },
  {
   "cell_type": "code",
   "execution_count": 69,
   "id": "344f0fb5-f1f7-419b-8bf3-4f54e1a0f14d",
   "metadata": {},
   "outputs": [
    {
     "data": {
      "text/plain": [
       "DataFrame[client_id: int, article_id: int, purchase_count: int]"
      ]
     },
     "execution_count": 69,
     "metadata": {},
     "output_type": "execute_result"
    }
   ],
   "source": [
    "transactions_shoes"
   ]
  },
  {
   "cell_type": "code",
   "execution_count": 70,
   "id": "5e453ed8-d37d-4284-9980-9d214f30a293",
   "metadata": {},
   "outputs": [],
   "source": [
    "(training, test) = transactions_shoes.randomSplit([0.8, 0.2])"
   ]
  },
  {
   "cell_type": "code",
   "execution_count": 142,
   "id": "61bebbbe-4ad0-4115-83d6-4c79d5544939",
   "metadata": {},
   "outputs": [],
   "source": [
    "# Lista donde guardar los resultados\n",
    "ROEMS_SHOES = []"
   ]
  },
  {
   "cell_type": "code",
   "execution_count": 143,
   "id": "3051ce44-904c-4a70-a0de-bba0176ce093",
   "metadata": {},
   "outputs": [
    {
     "name": "stdout",
     "output_type": "stream",
     "text": [
      "Validation ROEM:  0.26958857944432285\n",
      "Validation ROEM:  0.26540129352998715\n",
      "Validation ROEM:  0.241778280863447\n",
      "Validation ROEM:  0.2694199176402156\n",
      "Validation ROEM:  0.26622082138106157\n",
      "Validation ROEM:  0.2509270528224915\n",
      "Validation ROEM:  0.2696833106679447\n",
      "Validation ROEM:  0.2661400639448742\n",
      "Validation ROEM:  0.2605261695692943\n",
      "Validation ROEM:  0.26916292610824116\n",
      "Validation ROEM:  0.2654191207038281\n",
      "Validation ROEM:  0.20385700952004385\n",
      "Validation ROEM:  0.2690419183347386\n",
      "Validation ROEM:  0.26592085385850367\n",
      "Validation ROEM:  0.23693766659533697\n",
      "Validation ROEM:  0.2691163430066597\n",
      "Validation ROEM:  0.266134156739345\n",
      "Validation ROEM:  0.2611010840666273\n",
      "Validation ROEM:  0.2687031933595653\n",
      "Validation ROEM:  0.260285188423732\n",
      "Validation ROEM:  0.24685803876587936\n",
      "Validation ROEM:  0.26845471876723004\n",
      "Validation ROEM:  0.26252361818687614\n",
      "Validation ROEM:  0.24745051793544753\n",
      "Validation ROEM:  0.26878714790329633\n",
      "Validation ROEM:  0.262766101734188\n",
      "Validation ROEM:  0.2515998793999439\n",
      "Validation ROEM:  0.26840726611044313\n",
      "Validation ROEM:  0.2609937012794385\n",
      "Validation ROEM:  0.25002288567221953\n",
      "Validation ROEM:  0.2684403794555036\n",
      "Validation ROEM:  0.26212592489970776\n",
      "Validation ROEM:  0.2513663845198822\n",
      "Validation ROEM:  0.2688398376708757\n",
      "Validation ROEM:  0.2626141780850492\n",
      "Validation ROEM:  0.2558680945543386\n",
      "Validation ROEM:  0.26741080586557675\n",
      "Validation ROEM:  0.25462320814724193\n",
      "Validation ROEM:  0.24232164606707934\n",
      "Validation ROEM:  0.267361187992971\n",
      "Validation ROEM:  0.2571185267178588\n",
      "Validation ROEM:  0.24281251748478375\n",
      "Validation ROEM:  0.2675290596582996\n",
      "Validation ROEM:  0.2585008973469789\n",
      "Validation ROEM:  0.24704508601944053\n",
      "Validation ROEM:  0.2669541814897577\n",
      "Validation ROEM:  0.2574494577509998\n",
      "Validation ROEM:  0.24620213514313422\n",
      "Validation ROEM:  0.2671060652567423\n",
      "Validation ROEM:  0.25878520519759457\n",
      "Validation ROEM:  0.24759936971446164\n",
      "Validation ROEM:  0.2679629239471998\n",
      "Validation ROEM:  0.25961116707136433\n",
      "Validation ROEM:  0.25284533342576254\n",
      "Validation ROEM:  0.2679502858764742\n",
      "Validation ROEM:  0.2508298551920278\n",
      "Validation ROEM:  0.23834496789451295\n",
      "Validation ROEM:  0.268259350704773\n",
      "Validation ROEM:  0.2542636802677009\n",
      "Validation ROEM:  0.23876138999039173\n",
      "Validation ROEM:  0.26828832582284534\n",
      "Validation ROEM:  0.25656739411059937\n",
      "Validation ROEM:  0.24188925060934252\n",
      "Validation ROEM:  0.2673168488278718\n",
      "Validation ROEM:  0.25619773909603427\n",
      "Validation ROEM:  0.2441700698096432\n",
      "Validation ROEM:  0.2671877911210892\n",
      "Validation ROEM:  0.2585417657707139\n",
      "Validation ROEM:  0.2453414227680856\n",
      "Validation ROEM:  0.268644122447312\n",
      "Validation ROEM:  0.2592577286128272\n",
      "Validation ROEM:  0.2510429918351048\n"
     ]
    }
   ],
   "source": [
    "# Buscamos a través de los distintos modelos\n",
    "for als in model_list:\n",
    "    #Ajuste del modelo\n",
    "    fitted_model = als.fit(training)\n",
    "    predictions = fitted_model.transform(test)\n",
    "    predictions = prediction_nan(predictions)\n",
    "    ROEM_v = ROEM(predictions)\n",
    "\n",
    "    # Guardamos los resultados y los vamos mostrando\n",
    "    ROEMS_SHOES.append(ROEM_v)\n",
    "    print (\"Validation ROEM: \", ROEM_v)"
   ]
  },
  {
   "cell_type": "markdown",
   "id": "893300f8-47e8-4656-a91a-76b6090fb60c",
   "metadata": {},
   "source": [
    "**Modelo por tipo de producto. Underwear**"
   ]
  },
  {
   "cell_type": "code",
   "execution_count": 144,
   "id": "f4844be8-c8f4-4070-a068-56a871ff95d6",
   "metadata": {},
   "outputs": [],
   "source": [
    "ranks = [10, 20, 30, 40]\n",
    "maxIters = [5, 10]\n",
    "regParams = [.001, .01, .1]\n",
    "alphas = [1, 10, 100]"
   ]
  },
  {
   "cell_type": "code",
   "execution_count": 145,
   "id": "21a7f6e1-d994-47c0-8112-438b68ff32ac",
   "metadata": {},
   "outputs": [],
   "source": [
    "# For loop will automatically create and store ALS models\n",
    "model_list = []\n",
    "for r in ranks:\n",
    "    for mi in maxIters:\n",
    "        for rp in regParams:\n",
    "            for a in alphas:\n",
    "                model_list.append(ALS(userCol= \"client_id\", itemCol= \"article_id\", ratingCol= \"purchase_count\", rank = r, maxIter = mi, regParam = rp, alpha = a, coldStartStrategy=\"drop\", nonnegative = True, implicitPrefs = True))"
   ]
  },
  {
   "cell_type": "code",
   "execution_count": 8,
   "id": "8d9e6665-b212-4298-8007-a992e2479fb0",
   "metadata": {},
   "outputs": [],
   "source": [
    "transactions_underwear = spark.read.csv(\"Data_sets_articulos/transactions_underwear.csv\", header = True)"
   ]
  },
  {
   "cell_type": "code",
   "execution_count": 9,
   "id": "7fd88288-ad1b-42ad-96c9-c55b74a9b0d8",
   "metadata": {},
   "outputs": [],
   "source": [
    "transactions_underwear=transactions_underwear.withColumn(\"article_id\",transactions_underwear.article_id.cast('integer'))\n",
    "transactions_underwear=transactions_underwear.withColumn(\"client_id\",transactions_underwear.client_id.cast('integer'))\n",
    "transactions_underwear=transactions_underwear.withColumn(\"purchase_count\",transactions_underwear.purchase_count.cast('integer'))"
   ]
  },
  {
   "cell_type": "code",
   "execution_count": 10,
   "id": "122dbb98-2074-4130-9d0c-4b82352ab6a2",
   "metadata": {},
   "outputs": [
    {
     "data": {
      "text/plain": [
       "DataFrame[client_id: int, article_id: int, purchase_count: int]"
      ]
     },
     "execution_count": 10,
     "metadata": {},
     "output_type": "execute_result"
    }
   ],
   "source": [
    "transactions_underwear"
   ]
  },
  {
   "cell_type": "code",
   "execution_count": 11,
   "id": "614f09e2-c60a-405c-964b-3b046ef3c0bf",
   "metadata": {},
   "outputs": [],
   "source": [
    "(training, test) = transactions_underwear.randomSplit([0.8, 0.2])"
   ]
  },
  {
   "cell_type": "code",
   "execution_count": 150,
   "id": "4e0737b7-a6c0-43cc-8f49-56980556bc40",
   "metadata": {},
   "outputs": [],
   "source": [
    "ROEMS_UNDERWEAR = []"
   ]
  },
  {
   "cell_type": "code",
   "execution_count": 151,
   "id": "76b33fe9-9416-4b01-8878-f1967a3a8556",
   "metadata": {},
   "outputs": [
    {
     "name": "stdout",
     "output_type": "stream",
     "text": [
      "Validation ROEM:  0.34844122684139406\n",
      "Validation ROEM:  0.34605885982167495\n",
      "Validation ROEM:  0.0\n",
      "Validation ROEM:  0.34822485151202404\n",
      "Validation ROEM:  0.34602738289464324\n",
      "Validation ROEM:  0.03446579422972201\n",
      "Validation ROEM:  0.34834259940457185\n",
      "Validation ROEM:  0.3459129524224723\n",
      "Validation ROEM:  0.34602181662723597\n",
      "Validation ROEM:  0.3480476322945817\n",
      "Validation ROEM:  0.3449539897554647\n",
      "Validation ROEM:  0.0\n",
      "Validation ROEM:  0.3480503977976061\n",
      "Validation ROEM:  0.34568724077898133\n",
      "Validation ROEM:  0.3472861830832787\n",
      "Validation ROEM:  0.3482622067742735\n",
      "Validation ROEM:  0.3456286105106896\n",
      "Validation ROEM:  0.3439032162150029\n",
      "Validation ROEM:  0.34787168689561665\n",
      "Validation ROEM:  0.3476328201198038\n",
      "Validation ROEM:  0.2334356804577826\n",
      "Validation ROEM:  0.3476057819397777\n",
      "Validation ROEM:  0.34449748293323745\n",
      "Validation ROEM:  0.2713967046255541\n",
      "Validation ROEM:  0.3480439993227107\n",
      "Validation ROEM:  0.3446826647730841\n",
      "Validation ROEM:  0.33667136988453794\n",
      "Validation ROEM:  0.34749862441006196\n",
      "Validation ROEM:  0.28249494328202723\n",
      "Validation ROEM:  0.21871469146358116\n",
      "Validation ROEM:  0.34736055878008987\n",
      "Validation ROEM:  0.3441476071638852\n",
      "Validation ROEM:  0.31406069336882103\n",
      "Validation ROEM:  0.3478595383699404\n",
      "Validation ROEM:  0.34440120526685036\n",
      "Validation ROEM:  0.3406947329697862\n",
      "Validation ROEM:  0.3474802014920439\n",
      "Validation ROEM:  0.34033202265716206\n",
      "Validation ROEM:  0.31930981558811145\n",
      "Validation ROEM:  0.3473465765550847\n",
      "Validation ROEM:  0.3414511382146957\n",
      "Validation ROEM:  0.3238354731876279\n",
      "Validation ROEM:  0.3479622525768803\n",
      "Validation ROEM:  0.34173923417163754\n",
      "Validation ROEM:  0.3348824952315967\n",
      "Validation ROEM:  0.34726241823350684\n",
      "Validation ROEM:  0.34103701608919795\n",
      "Validation ROEM:  0.32097388379389913\n",
      "Validation ROEM:  0.34690225988989126\n",
      "Validation ROEM:  0.3421821167861341\n",
      "Validation ROEM:  0.3262880236510715\n",
      "Validation ROEM:  0.34784466507506473\n",
      "Validation ROEM:  0.3423657771835151\n",
      "Validation ROEM:  0.3384865894167493\n",
      "Validation ROEM:  0.3469228090675588\n",
      "Validation ROEM:  0.3383843981206197\n",
      "Validation ROEM:  0.328260943025217\n",
      "Validation ROEM:  0.34694873060588527\n",
      "Validation ROEM:  0.3394873621104883\n",
      "Validation ROEM:  0.3283582215353729\n",
      "Validation ROEM:  0.34730663665124756\n",
      "Validation ROEM:  0.3400482475970694\n",
      "Validation ROEM:  0.33150290503472285\n",
      "Validation ROEM:  0.34664396875095793\n",
      "Validation ROEM:  0.338204127337382\n",
      "Validation ROEM:  0.3283058696591986\n",
      "Validation ROEM:  0.34657852917959103\n",
      "Validation ROEM:  0.33998642476268237\n",
      "Validation ROEM:  0.3314501639044437\n",
      "Validation ROEM:  0.3473182681690366\n",
      "Validation ROEM:  0.3405643008073424\n",
      "Validation ROEM:  0.3345617961726021\n"
     ]
    }
   ],
   "source": [
    "# Buscamos a través de los distintos modelos\n",
    "for als in model_list:\n",
    "    #Ajuste del modelo\n",
    "    fitted_model = als.fit(training)\n",
    "    predictions = fitted_model.transform(test)\n",
    "    predictions = prediction_nan(predictions)\n",
    "    ROEM_v = ROEM(predictions)\n",
    "\n",
    "    # Guardamos los resultados y los vamos mostrando\n",
    "    ROEMS_UNDERWEAR.append(ROEM_v)\n",
    "    print (\"Validation ROEM: \", ROEM_v)"
   ]
  },
  {
   "cell_type": "markdown",
   "id": "62c6e5c6-b630-4b36-9a1c-e8658677dd73",
   "metadata": {
    "jupyter": {
     "outputs_hidden": true
    },
    "tags": []
   },
   "source": [
    "**Modelo por tipo de producto. Accessories**"
   ]
  },
  {
   "cell_type": "code",
   "execution_count": 6,
   "id": "ae62b1c7-647e-492b-9a72-f752734c741d",
   "metadata": {},
   "outputs": [],
   "source": [
    "ranks = [10, 20, 30, 40]\n",
    "maxIters = [5, 10]\n",
    "regParams = [.001, .01, .1]\n",
    "alphas = [1, 10, 100]"
   ]
  },
  {
   "cell_type": "code",
   "execution_count": 7,
   "id": "3158b3c7-1fd8-498f-b902-05ec0d4de80f",
   "metadata": {},
   "outputs": [],
   "source": [
    "# For loop will automatically create and store ALS models\n",
    "model_list = []\n",
    "for r in ranks:\n",
    "    for mi in maxIters:\n",
    "        for rp in regParams:\n",
    "            for a in alphas:\n",
    "                model_list.append(ALS(userCol= \"client_id\", itemCol= \"article_id\", ratingCol= \"purchase_count\", rank = r, maxIter = mi, regParam = rp, alpha = a, coldStartStrategy=\"drop\", nonnegative = True, implicitPrefs = True))"
   ]
  },
  {
   "cell_type": "code",
   "execution_count": 69,
   "id": "d00e4c21-52ac-43fe-b7e2-fa7e84d5494d",
   "metadata": {},
   "outputs": [],
   "source": [
    "transactions_accessories = spark.read.csv(\"Data_sets_articulos/transactions_accessories.csv\", header = True)"
   ]
  },
  {
   "cell_type": "code",
   "execution_count": 70,
   "id": "ad85acf5-eaa5-4fe5-a8ea-def63c4bbde9",
   "metadata": {},
   "outputs": [],
   "source": [
    "transactions_accessories=transactions_accessories.withColumn(\"article_id\",transactions_accessories.article_id.cast('integer'))\n",
    "transactions_accessories=transactions_accessories.withColumn(\"client_id\",transactions_accessories.client_id.cast('integer'))\n",
    "transactions_accessories=transactions_accessories.withColumn(\"purchase_count\",transactions_accessories.purchase_count.cast('integer'))"
   ]
  },
  {
   "cell_type": "code",
   "execution_count": 71,
   "id": "ca227c39-d29c-44b3-9200-f9b5f87fbfde",
   "metadata": {},
   "outputs": [
    {
     "data": {
      "text/plain": [
       "DataFrame[client_id: int, article_id: int, purchase_count: int]"
      ]
     },
     "execution_count": 71,
     "metadata": {},
     "output_type": "execute_result"
    }
   ],
   "source": [
    "transactions_accessories"
   ]
  },
  {
   "cell_type": "code",
   "execution_count": 72,
   "id": "961aa5ae-1794-4304-9801-6c445faf3232",
   "metadata": {},
   "outputs": [],
   "source": [
    "(training, test) = transactions_accessories.randomSplit([0.8, 0.2])"
   ]
  },
  {
   "cell_type": "code",
   "execution_count": 16,
   "id": "7f01a72b-0378-49ba-aff2-68880a890eb5",
   "metadata": {},
   "outputs": [],
   "source": [
    "ROEMS_ACCESSORIES = []"
   ]
  },
  {
   "cell_type": "code",
   "execution_count": 17,
   "id": "75a5e00e-d6f0-4fb2-af89-811f286739c4",
   "metadata": {},
   "outputs": [
    {
     "name": "stdout",
     "output_type": "stream",
     "text": [
      "Validation ROEM:  0.2987749817266608\n",
      "Validation ROEM:  0.2982400581513609\n",
      "Validation ROEM:  0.0\n",
      "Validation ROEM:  0.29877528167169126\n",
      "Validation ROEM:  0.2967508242336322\n",
      "Validation ROEM:  0.29809036884216045\n",
      "Validation ROEM:  0.29893438175177783\n",
      "Validation ROEM:  0.29698507466947766\n",
      "Validation ROEM:  0.2897848275217242\n",
      "Validation ROEM:  0.29862991028530117\n",
      "Validation ROEM:  0.29319739877808715\n",
      "Validation ROEM:  0.0\n",
      "Validation ROEM:  0.2986263336870434\n",
      "Validation ROEM:  0.2968141873867864\n",
      "Validation ROEM:  0.06881827289699793\n",
      "Validation ROEM:  0.29878570887522693\n",
      "Validation ROEM:  0.29692016054352754\n",
      "Validation ROEM:  0.29123484205167566\n",
      "Validation ROEM:  0.29813909356412127\n",
      "Validation ROEM:  0.2927077818484795\n",
      "Validation ROEM:  0.2623614830804094\n",
      "Validation ROEM:  0.2979787761784997\n",
      "Validation ROEM:  0.29397053486356345\n",
      "Validation ROEM:  0.27201675504061706\n",
      "Validation ROEM:  0.29870970962998633\n",
      "Validation ROEM:  0.2943048123808547\n",
      "Validation ROEM:  0.27967638624189534\n",
      "Validation ROEM:  0.29812268088351973\n",
      "Validation ROEM:  0.2919542357475292\n",
      "Validation ROEM:  0.24391478239615913\n",
      "Validation ROEM:  0.297950251624635\n",
      "Validation ROEM:  0.2939543326781712\n",
      "Validation ROEM:  0.2527243803473043\n",
      "Validation ROEM:  0.2984705624957606\n",
      "Validation ROEM:  0.2949985733337643\n",
      "Validation ROEM:  0.28178057907504284\n",
      "Validation ROEM:  0.29812286101835084\n",
      "Validation ROEM:  0.29012659653162276\n",
      "Validation ROEM:  0.2636337829585161\n",
      "Validation ROEM:  0.2981408366889666\n",
      "Validation ROEM:  0.2914873346080193\n",
      "Validation ROEM:  0.26750183318156323\n",
      "Validation ROEM:  0.2984622969500773\n",
      "Validation ROEM:  0.2925173000052474\n",
      "Validation ROEM:  0.27027422784173005\n",
      "Validation ROEM:  0.29793714329137877\n",
      "Validation ROEM:  0.2883743370348195\n",
      "Validation ROEM:  0.26208078021984327\n",
      "Validation ROEM:  0.29802642111410643\n",
      "Validation ROEM:  0.2926371812278239\n",
      "Validation ROEM:  0.2611298787112602\n",
      "Validation ROEM:  0.2985746698000716\n",
      "Validation ROEM:  0.29347778848102385\n",
      "Validation ROEM:  0.2806066022415136\n",
      "Validation ROEM:  0.2982312454799328\n",
      "Validation ROEM:  0.28647073910506154\n",
      "Validation ROEM:  0.256718567291428\n",
      "Validation ROEM:  0.2979398136216217\n",
      "Validation ROEM:  0.288599176048236\n",
      "Validation ROEM:  0.2574903853860898\n",
      "Validation ROEM:  0.29845652040309106\n",
      "Validation ROEM:  0.2898413770304601\n",
      "Validation ROEM:  0.2654617767173109\n",
      "Validation ROEM:  0.2976978279018382\n",
      "Validation ROEM:  0.28974905972090803\n",
      "Validation ROEM:  0.26598277412084337\n",
      "Validation ROEM:  0.29749665900872696\n",
      "Validation ROEM:  0.2917932500128182\n",
      "Validation ROEM:  0.26436971233515794\n",
      "Validation ROEM:  0.29842283884046134\n",
      "Validation ROEM:  0.2920434670973201\n",
      "Validation ROEM:  0.27522068447385045\n"
     ]
    }
   ],
   "source": [
    "# Buscamos a través de los distintos modelos\n",
    "for als in model_list:\n",
    "    #Ajuste del modelo\n",
    "    fitted_model = als.fit(training)\n",
    "    predictions = fitted_model.transform(test)\n",
    "    predictions = prediction_nan(predictions)\n",
    "    ROEM_v = ROEM(predictions)\n",
    "\n",
    "    # Guardamos los resultados y los vamos mostrando\n",
    "    ROEMS_ACCESSORIES.append(ROEM_v)\n",
    "    print (\"Validation ROEM: \", ROEM_v)"
   ]
  },
  {
   "cell_type": "markdown",
   "id": "5ad90336-73f6-4f7e-8b88-f4a6af6507fb",
   "metadata": {},
   "source": [
    "**Modelo por tipo de producto. Garment Lower body (GLB)**"
   ]
  },
  {
   "cell_type": "code",
   "execution_count": 18,
   "id": "926d4406-8933-413a-afb6-b31d882a2c06",
   "metadata": {},
   "outputs": [],
   "source": [
    "ranks = [10, 20, 30, 40]\n",
    "maxIters = [5, 10]\n",
    "regParams = [.001, .01, .1]\n",
    "alphas = [1, 10, 100]"
   ]
  },
  {
   "cell_type": "code",
   "execution_count": 19,
   "id": "58a7a479-0941-4cee-8729-0ac48d9e8039",
   "metadata": {},
   "outputs": [],
   "source": [
    "# For loop will automatically create and store ALS models\n",
    "model_list = []\n",
    "for r in ranks:\n",
    "    for mi in maxIters:\n",
    "        for rp in regParams:\n",
    "            for a in alphas:\n",
    "                model_list.append(ALS(userCol= \"client_id\", itemCol= \"article_id\", ratingCol= \"purchase_count\", rank = r, maxIter = mi, regParam = rp, alpha = a, coldStartStrategy=\"drop\", nonnegative = True, implicitPrefs = True))"
   ]
  },
  {
   "cell_type": "code",
   "execution_count": 103,
   "id": "78fd72e7-7754-4290-9cc2-6df792a39554",
   "metadata": {},
   "outputs": [],
   "source": [
    "transactions_glb = spark.read.csv(\"Data_sets_articulos/transactions_GLB.csv\", header = True)"
   ]
  },
  {
   "cell_type": "code",
   "execution_count": 104,
   "id": "dc960cab-e6bc-4cb3-9833-6ed20139d9b2",
   "metadata": {},
   "outputs": [],
   "source": [
    "transactions_glb=transactions_glb.withColumn(\"article_id\",transactions_glb.article_id.cast('integer'))\n",
    "transactions_glb=transactions_glb.withColumn(\"client_id\",transactions_glb.client_id.cast('integer'))\n",
    "transactions_glb=transactions_glb.withColumn(\"purchase_count\",transactions_glb.purchase_count.cast('integer'))"
   ]
  },
  {
   "cell_type": "code",
   "execution_count": 105,
   "id": "3994c318-2f40-42bb-9f5d-0dee5a316f02",
   "metadata": {},
   "outputs": [
    {
     "data": {
      "text/plain": [
       "DataFrame[client_id: int, article_id: int, purchase_count: int]"
      ]
     },
     "execution_count": 105,
     "metadata": {},
     "output_type": "execute_result"
    }
   ],
   "source": [
    "transactions_glb"
   ]
  },
  {
   "cell_type": "code",
   "execution_count": 106,
   "id": "4341f244-b5ce-4998-902d-7a5a7dc717df",
   "metadata": {},
   "outputs": [],
   "source": [
    "(training, test) = transactions_glb.randomSplit([0.8, 0.2])"
   ]
  },
  {
   "cell_type": "code",
   "execution_count": 25,
   "id": "685750a7-9552-4fa2-8f32-bbeccfe3b7b2",
   "metadata": {},
   "outputs": [],
   "source": [
    "ROEMS_GLB = []"
   ]
  },
  {
   "cell_type": "code",
   "execution_count": 26,
   "id": "ea2d189d-863c-4e43-997f-ec1dcb79f461",
   "metadata": {},
   "outputs": [
    {
     "name": "stdout",
     "output_type": "stream",
     "text": [
      "Validation ROEM:  0.3977223422560737\n",
      "Validation ROEM:  0.3963310924504021\n",
      "Validation ROEM:  0.3991098848455961\n",
      "Validation ROEM:  0.3977108216085837\n",
      "Validation ROEM:  0.3964585843568265\n",
      "Validation ROEM:  0.39687586696313043\n",
      "Validation ROEM:  0.3972948455785168\n",
      "Validation ROEM:  0.39644698751369095\n",
      "Validation ROEM:  0.39750495223912835\n",
      "Validation ROEM:  0.39755844843930555\n",
      "Validation ROEM:  0.39597496731233894\n",
      "Validation ROEM:  0.3978831267149171\n",
      "Validation ROEM:  0.39749453457980416\n",
      "Validation ROEM:  0.39593987028398736\n",
      "Validation ROEM:  0.39602187392988714\n",
      "Validation ROEM:  0.3974494450425451\n",
      "Validation ROEM:  0.39591631677922984\n",
      "Validation ROEM:  0.3968722308226483\n",
      "Validation ROEM:  0.3974282725576753\n",
      "Validation ROEM:  0.39698203376257263\n",
      "Validation ROEM:  0.0\n",
      "Validation ROEM:  0.3973329789944667\n",
      "Validation ROEM:  0.3957313541950234\n",
      "Validation ROEM:  0.06196671897401201\n",
      "Validation ROEM:  0.3970908090244474\n",
      "Validation ROEM:  0.39576039668699114\n",
      "Validation ROEM:  0.3905734842595583\n",
      "Validation ROEM:  0.39747296903947554\n",
      "Validation ROEM:  0.3954434419170735\n",
      "Validation ROEM:  0.0\n",
      "Validation ROEM:  0.3973981268429903\n",
      "Validation ROEM:  0.3950949183212675\n",
      "Validation ROEM:  0.005134902874400721\n",
      "Validation ROEM:  0.39691193788867934\n",
      "Validation ROEM:  0.39514997749714464\n",
      "Validation ROEM:  0.3945161304213257\n",
      "Validation ROEM:  0.3977664618159964\n",
      "Validation ROEM:  0.3970625173847456\n",
      "Validation ROEM:  0.1796182497359899\n",
      "Validation ROEM:  0.39764973657375785\n",
      "Validation ROEM:  0.39467750992903167\n",
      "Validation ROEM:  0.267783574131998\n",
      "Validation ROEM:  0.3971582625283011\n",
      "Validation ROEM:  0.39512192271468305\n",
      "Validation ROEM:  0.39025919138040893\n",
      "Validation ROEM:  0.397681279397822\n",
      "Validation ROEM:  0.392165524656737\n",
      "Validation ROEM:  0.16954603739351612\n",
      "Validation ROEM:  0.3974626818875498\n",
      "Validation ROEM:  0.39422263264360413\n",
      "Validation ROEM:  0.3341280040825254\n",
      "Validation ROEM:  0.3970497347020157\n",
      "Validation ROEM:  0.39454945515648354\n",
      "Validation ROEM:  0.3924647606236693\n",
      "Validation ROEM:  0.39738628982743307\n",
      "Validation ROEM:  0.38594868068274646\n",
      "Validation ROEM:  0.33420217862629087\n",
      "Validation ROEM:  0.3973127272894413\n",
      "Validation ROEM:  0.394457863717757\n",
      "Validation ROEM:  0.35311150825097365\n",
      "Validation ROEM:  0.39724865538044757\n",
      "Validation ROEM:  0.39481177734097656\n",
      "Validation ROEM:  0.38995239204038445\n",
      "Validation ROEM:  0.39708909863691266\n",
      "Validation ROEM:  0.3940372138135215\n",
      "Validation ROEM:  0.34036560328675797\n",
      "Validation ROEM:  0.39717515912628654\n",
      "Validation ROEM:  0.39416777088284605\n",
      "Validation ROEM:  0.36530639975242785\n",
      "Validation ROEM:  0.39698451754089253\n",
      "Validation ROEM:  0.39465643308166765\n",
      "Validation ROEM:  0.3928658152657378\n"
     ]
    }
   ],
   "source": [
    "# Buscamos a través de los distintos modelos\n",
    "for als in model_list:\n",
    "    #Ajuste del modelo\n",
    "    fitted_model = als.fit(training)\n",
    "    predictions = fitted_model.transform(test)\n",
    "    predictions = prediction_nan(predictions)\n",
    "    ROEM_v = ROEM(predictions)\n",
    "\n",
    "    # Guardamos los resultados y los vamos mostrando\n",
    "    ROEMS_GLB.append(ROEM_v)\n",
    "    print (\"Validation ROEM: \", ROEM_v)"
   ]
  },
  {
   "cell_type": "markdown",
   "id": "72a9974f-89bf-449d-bded-3869f971b505",
   "metadata": {},
   "source": [
    "Las iteraciones anterirores muestran que exsiten combinaciones de parámetros en donde el ROEM es 0 o muy cercano a cero. La idea ahora es probar por medio de validación cruzada algunas de estas iteraciones hasta encontrar aquella que no tenga overfitting. "
   ]
  },
  {
   "cell_type": "markdown",
   "id": "f58956b2-fdac-4e0d-9847-706f350e6ed0",
   "metadata": {},
   "source": [
    "#### Validación cruzada. Zapatos"
   ]
  },
  {
   "cell_type": "markdown",
   "id": "48d7a13f-b6ae-4155-990c-444e25873fb8",
   "metadata": {},
   "source": [
    "En el caso del modelo para underwear, el ROEM mínimo obtenido fue de 0% con la siguiente combinación:"
   ]
  },
  {
   "cell_type": "code",
   "execution_count": 25,
   "id": "96f71532-c2c1-4c50-8408-8e43223e687a",
   "metadata": {},
   "outputs": [],
   "source": [
    "rank = 10\n",
    "maxIter = 10\n",
    "regParam = 0.001\n",
    "alpha = 100"
   ]
  },
  {
   "cell_type": "code",
   "execution_count": 19,
   "id": "e6a4aca6-2f0b-4627-8297-6cc61ff70572",
   "metadata": {},
   "outputs": [],
   "source": [
    "als = ALS(maxIter=maxIter, regParam=regParam, implicitPrefs=True, alpha = alpha, rank = rank, \n",
    "          userCol=\"client_id\", itemCol=\"article_id\", ratingCol=\"purchase_count\",\n",
    "          coldStartStrategy=\"nan\", nonnegative = True)"
   ]
  },
  {
   "cell_type": "code",
   "execution_count": 14,
   "id": "3ce9cb2a-98da-43c4-b6d7-3abc9ab5c9a7",
   "metadata": {},
   "outputs": [],
   "source": [
    "# Generamos el split de la data de zapatos\n",
    "(training, test) = transactions_shoes.randomSplit([0.8, 0.2])\n",
    "\n",
    "#Construimos 5 folds\n",
    "train1, train2, train3, train4, train5 = training.randomSplit([0.2, 0.2, 0.2, 0.2, 0.2], seed = 1)\n",
    "fold1 = train2.union(train3).union(train4).union(train5)\n",
    "fold2 = train3.union(train4).union(train5).union(train1)\n",
    "fold3 = train4.union(train5).union(train1).union(train2)\n",
    "fold4 = train5.union(train1).union(train2).union(train3)\n",
    "fold5 = train1.union(train2).union(train3).union(train4)\n",
    "\n",
    "foldlist = [(fold1, train1), (fold2, train2), (fold3, train3), (fold4, train4), (fold5, train5)]"
   ]
  },
  {
   "cell_type": "code",
   "execution_count": 15,
   "id": "0bc2dbe3-126b-4322-8316-e25d12c7cd24",
   "metadata": {},
   "outputs": [
    {
     "name": "stdout",
     "output_type": "stream",
     "text": [
      "ROEM validacion:  0.17711479961259533\n",
      "ROEM validacion:  0.17398859524794894\n",
      "ROEM validacion:  0.17498470078441417\n",
      "ROEM validacion:  0.17450144303168066\n",
      "ROEM validacion:  0.1805667136073882\n"
     ]
    }
   ],
   "source": [
    "for ft_pair in foldlist:\n",
    "    modelo_adj = als.fit(ft_pair[0])\n",
    "    predictions = modelo_adj.transform(ft_pair[1])\n",
    "    predictions = prediction_nan(predictions)\n",
    "    r = ROEM(predictions)\n",
    "    print (\"ROEM validacion: \", r)"
   ]
  },
  {
   "cell_type": "code",
   "execution_count": 16,
   "id": "23409da5-eec0-44c4-9f10-bcffb962ff10",
   "metadata": {},
   "outputs": [
    {
     "name": "stdout",
     "output_type": "stream",
     "text": [
      "ROEM final:  0.18107707215788987\n"
     ]
    }
   ],
   "source": [
    "# Ajustamos el model para todo el set de entrenamiento\n",
    "v_fitted_model = als.fit(training)\n",
    "v_predictions = v_fitted_model.transform(test)\n",
    "v_predictions = prediction_nan(v_predictions)\n",
    "v_ROEM = ROEM(v_predictions)\n",
    "\n",
    "# Mostramos el ROEM para todo el set de validación\n",
    "print (\"ROEM final: \", v_ROEM)"
   ]
  },
  {
   "cell_type": "markdown",
   "id": "15db4469-5eb4-427c-a22b-8b5c19ff23df",
   "metadata": {},
   "source": [
    "#### Validación cruzada. Underwear"
   ]
  },
  {
   "cell_type": "markdown",
   "id": "d7e8e3fe-f5ae-4d93-bc93-a96ba076f52f",
   "metadata": {},
   "source": [
    "En el caso del modelo para underwear, el ROEM mínimo obtenido fue de 0.0% con la siguiente combinación:"
   ]
  },
  {
   "cell_type": "code",
   "execution_count": 34,
   "id": "bac7e4fd-76ed-45c8-ad40-86427492cc0a",
   "metadata": {},
   "outputs": [],
   "source": [
    "rank = 20\n",
    "maxIter = 10\n",
    "regParam = 0.001\n",
    "alpha = 100"
   ]
  },
  {
   "cell_type": "code",
   "execution_count": 35,
   "id": "511a560f-738e-41ec-91c4-19e70f5f57c9",
   "metadata": {},
   "outputs": [],
   "source": [
    "als = ALS(maxIter=maxIter, regParam=regParam, implicitPrefs=True, alpha = alpha, rank = rank, \n",
    "          userCol=\"client_id\", itemCol=\"article_id\", ratingCol=\"purchase_count\",\n",
    "          coldStartStrategy=\"nan\", nonnegative = True)"
   ]
  },
  {
   "cell_type": "code",
   "execution_count": 36,
   "id": "060ce572-f818-4ed0-9a44-e5797b6b8368",
   "metadata": {},
   "outputs": [],
   "source": [
    "# Generamos el split de la data de zapatos\n",
    "(training, test) = transactions_underwear.randomSplit([0.8, 0.2])\n",
    "\n",
    "#Construimos 5 folds\n",
    "train1, train2, train3, train4, train5 = training.randomSplit([0.2, 0.2, 0.2, 0.2, 0.2], seed = 1)\n",
    "fold1 = train2.union(train3).union(train4).union(train5)\n",
    "fold2 = train3.union(train4).union(train5).union(train1)\n",
    "fold3 = train4.union(train5).union(train1).union(train2)\n",
    "fold4 = train5.union(train1).union(train2).union(train3)\n",
    "fold5 = train1.union(train2).union(train3).union(train4)\n",
    "\n",
    "foldlist = [(fold1, train1), (fold2, train2), (fold3, train3), (fold4, train4), (fold5, train5)]"
   ]
  },
  {
   "cell_type": "code",
   "execution_count": 37,
   "id": "78aa2f4e-cd12-48e3-a7f3-dc2c1f879ec1",
   "metadata": {},
   "outputs": [
    {
     "name": "stdout",
     "output_type": "stream",
     "text": [
      "ROEM validacion:  0.2473329648214539\n",
      "ROEM validacion:  0.24471072521113302\n",
      "ROEM validacion:  0.2511109132209099\n",
      "ROEM validacion:  0.2459025964806172\n",
      "ROEM validacion:  0.24650881415255152\n"
     ]
    }
   ],
   "source": [
    "for ft_pair in foldlist:\n",
    "    modelo_adj = als.fit(ft_pair[0])\n",
    "    predictions = modelo_adj.transform(ft_pair[1])\n",
    "    predictions = prediction_nan(predictions)\n",
    "    r = ROEM(predictions)\n",
    "    print (\"ROEM validacion: \", r)"
   ]
  },
  {
   "cell_type": "code",
   "execution_count": 38,
   "id": "07302aeb-1807-4aa5-9d1e-a3cd5ab802af",
   "metadata": {},
   "outputs": [
    {
     "name": "stdout",
     "output_type": "stream",
     "text": [
      "ROEM final:  0.17969235818227997\n"
     ]
    }
   ],
   "source": [
    "# Ajustamos el model para todo el set de entrenamiento\n",
    "v_fitted_model = als.fit(training)\n",
    "v_predictions = v_fitted_model.transform(test)\n",
    "v_predictions = prediction_nan(v_predictions)\n",
    "v_ROEM = ROEM(v_predictions)\n",
    "\n",
    "# Mostramos el ROEM para todo el set de validación\n",
    "print (\"ROEM final: \", v_ROEM)"
   ]
  },
  {
   "cell_type": "markdown",
   "id": "487ec03c-5ca1-4e59-a4b3-f7b030fa64ca",
   "metadata": {},
   "source": [
    "#### Validación cruzada. Accessories"
   ]
  },
  {
   "cell_type": "markdown",
   "id": "24ef32ed-3d36-4fdd-8768-ac173feb6d57",
   "metadata": {},
   "source": [
    "En el caso del modelo para accesories, el ROEM mínimo obtenido fue de 0.0% con la siguiente combinación:"
   ]
  },
  {
   "cell_type": "code",
   "execution_count": 76,
   "id": "e2bc2f8e-4163-4713-b026-7b77ca8c4570",
   "metadata": {},
   "outputs": [],
   "source": [
    "rank = 20\n",
    "maxIter = 10\n",
    "regParam = 0.001\n",
    "alpha = 100"
   ]
  },
  {
   "cell_type": "code",
   "execution_count": 77,
   "id": "d0fb3a74-f379-4c96-a395-6d713cce6072",
   "metadata": {},
   "outputs": [],
   "source": [
    "als = ALS(maxIter=maxIter, regParam=regParam, implicitPrefs=True, alpha = alpha, rank = rank, \n",
    "          userCol=\"client_id\", itemCol=\"article_id\", ratingCol=\"purchase_count\",\n",
    "          coldStartStrategy=\"nan\", nonnegative = True)"
   ]
  },
  {
   "cell_type": "code",
   "execution_count": 78,
   "id": "8c861167-5b52-413e-aa1f-ed5be54b78cd",
   "metadata": {},
   "outputs": [],
   "source": [
    "# Generamos el split de la data de accesories\n",
    "(training, test) = transactions_accessories.randomSplit([0.8, 0.2])\n",
    "\n",
    "#Construimos 5 folds\n",
    "train1, train2, train3, train4, train5 = training.randomSplit([0.2, 0.2, 0.2, 0.2, 0.2], seed = 1)\n",
    "fold1 = train2.union(train3).union(train4).union(train5)\n",
    "fold2 = train3.union(train4).union(train5).union(train1)\n",
    "fold3 = train4.union(train5).union(train1).union(train2)\n",
    "fold4 = train5.union(train1).union(train2).union(train3)\n",
    "fold5 = train1.union(train2).union(train3).union(train4)\n",
    "\n",
    "foldlist = [(fold1, train1), (fold2, train2), (fold3, train3), (fold4, train4), (fold5, train5)]"
   ]
  },
  {
   "cell_type": "code",
   "execution_count": 79,
   "id": "a9a85fa1-3cb6-4579-8398-e28a63fd3fb5",
   "metadata": {},
   "outputs": [
    {
     "name": "stdout",
     "output_type": "stream",
     "text": [
      "ROEM validacion:  0.1974840048075369\n",
      "ROEM validacion:  0.20135811767107858\n",
      "ROEM validacion:  0.1996095795397958\n",
      "ROEM validacion:  0.20184915555507127\n",
      "ROEM validacion:  0.20405009611624556\n"
     ]
    }
   ],
   "source": [
    "for ft_pair in foldlist:\n",
    "    modelo_adj = als.fit(ft_pair[0])\n",
    "    predictions = modelo_adj.transform(ft_pair[1])\n",
    "    predictions = prediction_nan(predictions)\n",
    "    r = ROEM(predictions)\n",
    "    print (\"ROEM validacion: \", r)"
   ]
  },
  {
   "cell_type": "code",
   "execution_count": 80,
   "id": "e6bb2c53-3085-48dc-b14c-ab3c14819a04",
   "metadata": {},
   "outputs": [
    {
     "name": "stdout",
     "output_type": "stream",
     "text": [
      "ROEM final:  0.22144255832142776\n"
     ]
    }
   ],
   "source": [
    "# Ajustamos el model para todo el set de entrenamiento\n",
    "v_fitted_model = als.fit(training)\n",
    "v_predictions = v_fitted_model.transform(test)\n",
    "v_predictions = prediction_nan(v_predictions)\n",
    "v_ROEM = ROEM(v_predictions)\n",
    "\n",
    "# Mostramos el ROEM para todo el set de validación\n",
    "print (\"ROEM final: \", v_ROEM)"
   ]
  },
  {
   "cell_type": "markdown",
   "id": "b3a844e4-04d2-4aae-aee6-ed096b3495f9",
   "metadata": {},
   "source": [
    "#### Validación cruzada. GLB"
   ]
  },
  {
   "cell_type": "markdown",
   "id": "fe86f7ee-9e86-4270-9189-46a4aad31363",
   "metadata": {},
   "source": [
    "En el caso del modelo para GLB, el ROEM mínimo obtenido fue de 0.0% con la siguiente combinación:"
   ]
  },
  {
   "cell_type": "code",
   "execution_count": 107,
   "id": "e6fc1e95-d37f-4068-a70a-442454ed9eec",
   "metadata": {},
   "outputs": [],
   "source": [
    "rank = 30\n",
    "maxIter = 10\n",
    "regParam = 0.001\n",
    "alpha = 100"
   ]
  },
  {
   "cell_type": "code",
   "execution_count": 108,
   "id": "29b1c926-8dc9-4e3a-8c1b-c9257f9e7b33",
   "metadata": {},
   "outputs": [],
   "source": [
    "als = ALS(maxIter=maxIter, regParam=regParam, implicitPrefs=True, alpha = alpha, rank = rank, \n",
    "          userCol=\"client_id\", itemCol=\"article_id\", ratingCol=\"purchase_count\",\n",
    "          coldStartStrategy=\"nan\", nonnegative = True)"
   ]
  },
  {
   "cell_type": "code",
   "execution_count": 109,
   "id": "8356db79-3948-4805-b013-b70da14e87da",
   "metadata": {},
   "outputs": [],
   "source": [
    "# Generamos el split de la data de accesories\n",
    "(training, test) = transactions_glb.randomSplit([0.8, 0.2])\n",
    "\n",
    "#Construimos 5 folds\n",
    "train1, train2, train3, train4, train5 = training.randomSplit([0.2, 0.2, 0.2, 0.2, 0.2], seed = 1)\n",
    "fold1 = train2.union(train3).union(train4).union(train5)\n",
    "fold2 = train3.union(train4).union(train5).union(train1)\n",
    "fold3 = train4.union(train5).union(train1).union(train2)\n",
    "fold4 = train5.union(train1).union(train2).union(train3)\n",
    "fold5 = train1.union(train2).union(train3).union(train4)\n",
    "\n",
    "foldlist = [(fold1, train1), (fold2, train2), (fold3, train3), (fold4, train4), (fold5, train5)]"
   ]
  },
  {
   "cell_type": "code",
   "execution_count": 110,
   "id": "9cfb9ba6-a0be-422d-aede-b0f58eb07e9e",
   "metadata": {},
   "outputs": [
    {
     "name": "stdout",
     "output_type": "stream",
     "text": [
      "ROEM validacion:  0.2549466664197314\n",
      "ROEM validacion:  0.26348012643012125\n",
      "ROEM validacion:  0.25629603546534957\n",
      "ROEM validacion:  0.2630299922191524\n",
      "ROEM validacion:  0.26131367327428395\n"
     ]
    }
   ],
   "source": [
    "for ft_pair in foldlist:\n",
    "    modelo_adj = als.fit(ft_pair[0])\n",
    "    predictions = modelo_adj.transform(ft_pair[1])\n",
    "    predictions = prediction_nan(predictions)\n",
    "    r = ROEM(predictions)\n",
    "    print (\"ROEM validacion: \", r)"
   ]
  },
  {
   "cell_type": "code",
   "execution_count": 111,
   "id": "2fc7a9ba-1f20-4919-8906-ca17b492b44d",
   "metadata": {},
   "outputs": [
    {
     "name": "stdout",
     "output_type": "stream",
     "text": [
      "ROEM final:  0.20144370488121893\n"
     ]
    }
   ],
   "source": [
    "# Ajustamos el model para todo el set de entrenamiento\n",
    "v_fitted_model = als.fit(training)\n",
    "v_predictions = v_fitted_model.transform(test)\n",
    "v_predictions = prediction_nan(v_predictions)\n",
    "v_ROEM = ROEM(v_predictions)\n",
    "\n",
    "# Mostramos el ROEM para todo el set de validación\n",
    "print (\"ROEM final: \", v_ROEM)"
   ]
  },
  {
   "cell_type": "markdown",
   "id": "3e9d7f5c-d27d-4e42-bc28-2a9178d25499",
   "metadata": {},
   "source": [
    "#### Analizando recomendaciones"
   ]
  },
  {
   "cell_type": "markdown",
   "id": "738f509d-9888-4dd6-b56e-3cacea698b55",
   "metadata": {},
   "source": [
    "#### Caso zapatos"
   ]
  },
  {
   "cell_type": "code",
   "execution_count": 65,
   "id": "ce633271-07c9-4f1d-98a9-d7dc092c8349",
   "metadata": {},
   "outputs": [],
   "source": [
    "rank = 10\n",
    "maxIter = 10\n",
    "regParam = 0.001\n",
    "alpha = 100"
   ]
  },
  {
   "cell_type": "code",
   "execution_count": 66,
   "id": "4ffb83fe-ac7f-47c2-a4f4-7f510bb8e98a",
   "metadata": {},
   "outputs": [],
   "source": [
    "als_shoes = ALS(maxIter=maxIter, regParam=regParam, implicitPrefs=True, alpha = alpha, rank = rank, \n",
    "          userCol=\"client_id\", itemCol=\"article_id\", ratingCol=\"purchase_count\",\n",
    "          coldStartStrategy=\"nan\", nonnegative = True)"
   ]
  },
  {
   "cell_type": "code",
   "execution_count": 76,
   "id": "31b424b8-971d-43b7-a4e3-4fd39e76189c",
   "metadata": {},
   "outputs": [
    {
     "name": "stdout",
     "output_type": "stream",
     "text": [
      "ROEM final:  0.1969880213627663\n"
     ]
    }
   ],
   "source": [
    "# Ajustamos el model para todo el set de entrenamiento\n",
    "model_shoes = als_shoes.fit(training)\n",
    "predictions = model_shoes.transform(test)\n",
    "predictions = prediction_nan(predictions)\n",
    "ROEM_v = ROEM(predictions)\n",
    "\n",
    "# Mostramos el ROEM para todo el set de validación\n",
    "print (\"ROEM final: \", ROEM_v)"
   ]
  },
  {
   "cell_type": "markdown",
   "id": "f7c5b7c0-4395-498b-b643-d8fc0dea66e7",
   "metadata": {},
   "source": [
    "Generamos el top 5 de recomendaciones de zapatos para cada usuario"
   ]
  },
  {
   "cell_type": "code",
   "execution_count": 96,
   "id": "6e664102-bb9c-4bfe-9fda-62e4e17db7d0",
   "metadata": {},
   "outputs": [],
   "source": [
    "shoes_recommendation = model_shoes.recommendForAllUsers(5)"
   ]
  },
  {
   "cell_type": "code",
   "execution_count": 78,
   "id": "4289baa4-892a-4851-9821-c9510de8c0f4",
   "metadata": {},
   "outputs": [
    {
     "name": "stdout",
     "output_type": "stream",
     "text": [
      "+---------+--------------------+\n",
      "|client_id|     recommendations|\n",
      "+---------+--------------------+\n",
      "|      148|[{822355001, 0.33...|\n",
      "|     1088|[{809521001, 1.15...|\n",
      "|     1238|[{517762010, 1.03...|\n",
      "|     1591|[{514134001, 0.77...|\n",
      "|     1829|[{822355001, 0.50...|\n",
      "|     1959|[{581275009, 0.12...|\n",
      "|     2659|[{748588001, 0.97...|\n",
      "|     3794|[{619234001, 0.38...|\n",
      "|     3918|[{809521001, 0.78...|\n",
      "|     4101|[{258650001, 0.0}...|\n",
      "|     4818|[{514134001, 0.77...|\n",
      "|     4935|[{212042070, 0.0}...|\n",
      "|     5156|[{619235001, 0.76...|\n",
      "|     5300|[{581275009, 1.09...|\n",
      "|     5803|[{619235001, 0.37...|\n",
      "|     6336|[{622956001, 0.77...|\n",
      "|     6357|[{514134001, 0.73...|\n",
      "|     6397|[{762977001, 0.78...|\n",
      "|     6620|[{514134001, 0.77...|\n",
      "|     7253|[{748588001, 1.42...|\n",
      "+---------+--------------------+\n",
      "only showing top 20 rows\n",
      "\n"
     ]
    }
   ],
   "source": [
    "shoes_recommendation.show()"
   ]
  },
  {
   "cell_type": "code",
   "execution_count": 100,
   "id": "808772eb-d480-44f9-8725-30c9eb8f5fe9",
   "metadata": {},
   "outputs": [],
   "source": [
    "shoes_recommendation = shoes_recommendation.withColumn(\"recomm\", explode(\"recommendations\")).select('client_id', col(\"recomm.article_id\"), col(\"recomm.rating\"))"
   ]
  },
  {
   "cell_type": "code",
   "execution_count": 101,
   "id": "5c65e8ac-80a1-450f-8c58-269416e65712",
   "metadata": {},
   "outputs": [],
   "source": [
    "shoes_recommendationDF = shoes_recommendation.toPandas()"
   ]
  },
  {
   "cell_type": "code",
   "execution_count": 103,
   "id": "3a1f58f2-4a0d-43ec-95f8-cda97b0c32e2",
   "metadata": {},
   "outputs": [
    {
     "data": {
      "text/html": [
       "<div>\n",
       "<style scoped>\n",
       "    .dataframe tbody tr th:only-of-type {\n",
       "        vertical-align: middle;\n",
       "    }\n",
       "\n",
       "    .dataframe tbody tr th {\n",
       "        vertical-align: top;\n",
       "    }\n",
       "\n",
       "    .dataframe thead th {\n",
       "        text-align: right;\n",
       "    }\n",
       "</style>\n",
       "<table border=\"1\" class=\"dataframe\">\n",
       "  <thead>\n",
       "    <tr style=\"text-align: right;\">\n",
       "      <th></th>\n",
       "      <th>client_id</th>\n",
       "      <th>article_id</th>\n",
       "      <th>rating</th>\n",
       "    </tr>\n",
       "  </thead>\n",
       "  <tbody>\n",
       "    <tr>\n",
       "      <th>0</th>\n",
       "      <td>148</td>\n",
       "      <td>822355001</td>\n",
       "      <td>0.338861</td>\n",
       "    </tr>\n",
       "    <tr>\n",
       "      <th>1</th>\n",
       "      <td>148</td>\n",
       "      <td>593808005</td>\n",
       "      <td>0.337656</td>\n",
       "    </tr>\n",
       "    <tr>\n",
       "      <th>2</th>\n",
       "      <td>148</td>\n",
       "      <td>694614001</td>\n",
       "      <td>0.331626</td>\n",
       "    </tr>\n",
       "    <tr>\n",
       "      <th>3</th>\n",
       "      <td>148</td>\n",
       "      <td>808685001</td>\n",
       "      <td>0.324381</td>\n",
       "    </tr>\n",
       "    <tr>\n",
       "      <th>4</th>\n",
       "      <td>148</td>\n",
       "      <td>606711001</td>\n",
       "      <td>0.323425</td>\n",
       "    </tr>\n",
       "    <tr>\n",
       "      <th>5</th>\n",
       "      <td>1088</td>\n",
       "      <td>809521001</td>\n",
       "      <td>1.158062</td>\n",
       "    </tr>\n",
       "    <tr>\n",
       "      <th>6</th>\n",
       "      <td>1088</td>\n",
       "      <td>808666003</td>\n",
       "      <td>1.144829</td>\n",
       "    </tr>\n",
       "    <tr>\n",
       "      <th>7</th>\n",
       "      <td>1088</td>\n",
       "      <td>655287002</td>\n",
       "      <td>1.129071</td>\n",
       "    </tr>\n",
       "    <tr>\n",
       "      <th>8</th>\n",
       "      <td>1088</td>\n",
       "      <td>853931004</td>\n",
       "      <td>1.120902</td>\n",
       "    </tr>\n",
       "    <tr>\n",
       "      <th>9</th>\n",
       "      <td>1088</td>\n",
       "      <td>758472002</td>\n",
       "      <td>1.093903</td>\n",
       "    </tr>\n",
       "  </tbody>\n",
       "</table>\n",
       "</div>"
      ],
      "text/plain": [
       "   client_id  article_id    rating\n",
       "0        148   822355001  0.338861\n",
       "1        148   593808005  0.337656\n",
       "2        148   694614001  0.331626\n",
       "3        148   808685001  0.324381\n",
       "4        148   606711001  0.323425\n",
       "5       1088   809521001  1.158062\n",
       "6       1088   808666003  1.144829\n",
       "7       1088   655287002  1.129071\n",
       "8       1088   853931004  1.120902\n",
       "9       1088   758472002  1.093903"
      ]
     },
     "execution_count": 103,
     "metadata": {},
     "output_type": "execute_result"
    }
   ],
   "source": [
    "shoes_recommendationDF.head(10)"
   ]
  },
  {
   "cell_type": "code",
   "execution_count": 105,
   "id": "ea7dd09c-ecd2-4a06-8dcc-d4014f8fab60",
   "metadata": {},
   "outputs": [],
   "source": [
    "shoes_recommendationDF.to_csv(\"shoes_recommendation.csv\")"
   ]
  },
  {
   "cell_type": "markdown",
   "id": "45f2cd01-9da0-451a-a786-e990a7dfe89f",
   "metadata": {},
   "source": [
    "#### Caso underwear"
   ]
  },
  {
   "cell_type": "code",
   "execution_count": 21,
   "id": "9cf5b204-55a8-4175-96c3-0eca0862208b",
   "metadata": {},
   "outputs": [],
   "source": [
    "rank = 20\n",
    "maxIter = 10\n",
    "regParam = 0.001\n",
    "alpha = 100"
   ]
  },
  {
   "cell_type": "code",
   "execution_count": 22,
   "id": "fd359088-88cf-45af-9e9f-af1b01be272a",
   "metadata": {},
   "outputs": [],
   "source": [
    "als_underwear = ALS(maxIter=maxIter, regParam=regParam, implicitPrefs=True, alpha = alpha, rank = rank, \n",
    "          userCol=\"client_id\", itemCol=\"article_id\", ratingCol=\"purchase_count\",\n",
    "          coldStartStrategy=\"nan\", nonnegative = True)"
   ]
  },
  {
   "cell_type": "code",
   "execution_count": 25,
   "id": "4ffa2be2-081a-4936-9ff4-c1841634c3ea",
   "metadata": {},
   "outputs": [
    {
     "name": "stdout",
     "output_type": "stream",
     "text": [
      "ROEM final:  0.1740319013924613\n"
     ]
    }
   ],
   "source": [
    "# Ajustamos el model para todo el set de entrenamiento\n",
    "model_underwear = als_underwear.fit(training)\n",
    "predictions = model_underwear.transform(test)\n",
    "predictions = prediction_nan(predictions)\n",
    "ROEM_v = ROEM(predictions)\n",
    "\n",
    "# Mostramos el ROEM para todo el set de validación\n",
    "print (\"ROEM final: \", ROEM_v)"
   ]
  },
  {
   "cell_type": "code",
   "execution_count": 26,
   "id": "714cbd90-cc31-4b0a-8d47-76068f00a2fe",
   "metadata": {},
   "outputs": [],
   "source": [
    "underwear_recommendation = model_underwear.recommendForAllUsers(5)"
   ]
  },
  {
   "cell_type": "code",
   "execution_count": 27,
   "id": "a839cdf1-432a-45bb-ad80-456266fad1a9",
   "metadata": {},
   "outputs": [],
   "source": [
    "underwear_recommendation = underwear_recommendation.withColumn(\"recomm\", explode(\"recommendations\")).select('client_id', col(\"recomm.article_id\"), col(\"recomm.rating\"))"
   ]
  },
  {
   "cell_type": "code",
   "execution_count": 28,
   "id": "41e5fc06-57a4-4c0c-b1aa-c7d7cfe74b69",
   "metadata": {},
   "outputs": [],
   "source": [
    "underwear_recommendationDF = underwear_recommendation.toPandas()"
   ]
  },
  {
   "cell_type": "code",
   "execution_count": 29,
   "id": "5300d7b5-79d3-4868-ab20-7f4ef583f42a",
   "metadata": {},
   "outputs": [
    {
     "data": {
      "text/html": [
       "<div>\n",
       "<style scoped>\n",
       "    .dataframe tbody tr th:only-of-type {\n",
       "        vertical-align: middle;\n",
       "    }\n",
       "\n",
       "    .dataframe tbody tr th {\n",
       "        vertical-align: top;\n",
       "    }\n",
       "\n",
       "    .dataframe thead th {\n",
       "        text-align: right;\n",
       "    }\n",
       "</style>\n",
       "<table border=\"1\" class=\"dataframe\">\n",
       "  <thead>\n",
       "    <tr style=\"text-align: right;\">\n",
       "      <th></th>\n",
       "      <th>client_id</th>\n",
       "      <th>article_id</th>\n",
       "      <th>rating</th>\n",
       "    </tr>\n",
       "  </thead>\n",
       "  <tbody>\n",
       "    <tr>\n",
       "      <th>0</th>\n",
       "      <td>148</td>\n",
       "      <td>688728018</td>\n",
       "      <td>0.721091</td>\n",
       "    </tr>\n",
       "    <tr>\n",
       "      <th>1</th>\n",
       "      <td>148</td>\n",
       "      <td>598515020</td>\n",
       "      <td>0.707650</td>\n",
       "    </tr>\n",
       "    <tr>\n",
       "      <th>2</th>\n",
       "      <td>148</td>\n",
       "      <td>614854016</td>\n",
       "      <td>0.677203</td>\n",
       "    </tr>\n",
       "    <tr>\n",
       "      <th>3</th>\n",
       "      <td>148</td>\n",
       "      <td>564313003</td>\n",
       "      <td>0.670933</td>\n",
       "    </tr>\n",
       "    <tr>\n",
       "      <th>4</th>\n",
       "      <td>148</td>\n",
       "      <td>854322001</td>\n",
       "      <td>0.652681</td>\n",
       "    </tr>\n",
       "    <tr>\n",
       "      <th>5</th>\n",
       "      <td>463</td>\n",
       "      <td>686259004</td>\n",
       "      <td>0.748212</td>\n",
       "    </tr>\n",
       "    <tr>\n",
       "      <th>6</th>\n",
       "      <td>463</td>\n",
       "      <td>735607005</td>\n",
       "      <td>0.738398</td>\n",
       "    </tr>\n",
       "    <tr>\n",
       "      <th>7</th>\n",
       "      <td>463</td>\n",
       "      <td>761113002</td>\n",
       "      <td>0.704035</td>\n",
       "    </tr>\n",
       "    <tr>\n",
       "      <th>8</th>\n",
       "      <td>463</td>\n",
       "      <td>688728018</td>\n",
       "      <td>0.702887</td>\n",
       "    </tr>\n",
       "    <tr>\n",
       "      <th>9</th>\n",
       "      <td>463</td>\n",
       "      <td>678687016</td>\n",
       "      <td>0.699006</td>\n",
       "    </tr>\n",
       "  </tbody>\n",
       "</table>\n",
       "</div>"
      ],
      "text/plain": [
       "   client_id  article_id    rating\n",
       "0        148   688728018  0.721091\n",
       "1        148   598515020  0.707650\n",
       "2        148   614854016  0.677203\n",
       "3        148   564313003  0.670933\n",
       "4        148   854322001  0.652681\n",
       "5        463   686259004  0.748212\n",
       "6        463   735607005  0.738398\n",
       "7        463   761113002  0.704035\n",
       "8        463   688728018  0.702887\n",
       "9        463   678687016  0.699006"
      ]
     },
     "execution_count": 29,
     "metadata": {},
     "output_type": "execute_result"
    }
   ],
   "source": [
    "underwear_recommendationDF.head(10)"
   ]
  },
  {
   "cell_type": "code",
   "execution_count": 39,
   "id": "1b2a4aa2-e5ff-44e2-a70e-1217aeb5ddc2",
   "metadata": {},
   "outputs": [],
   "source": [
    "underwear_recommendationDF.to_csv(\"underwear_recommendation.csv\")"
   ]
  },
  {
   "cell_type": "markdown",
   "id": "3947402e-79f4-4396-8779-ca306735f3bb",
   "metadata": {},
   "source": [
    "#### Caso Accessories"
   ]
  },
  {
   "cell_type": "code",
   "execution_count": 61,
   "id": "6954687e-35e6-4973-ba78-0fe3afe163fd",
   "metadata": {},
   "outputs": [],
   "source": [
    "rank = 20\n",
    "maxIter = 10\n",
    "regParam = 0.001\n",
    "alpha = 100"
   ]
  },
  {
   "cell_type": "code",
   "execution_count": 62,
   "id": "397ff2d6-8d97-40b1-917d-24be4ddaeb25",
   "metadata": {},
   "outputs": [],
   "source": [
    "als_accessories = ALS(maxIter=maxIter, regParam=regParam, implicitPrefs=True, alpha = alpha, rank = rank, \n",
    "          userCol=\"client_id\", itemCol=\"article_id\", ratingCol=\"purchase_count\",\n",
    "          coldStartStrategy=\"nan\", nonnegative = True)"
   ]
  },
  {
   "cell_type": "code",
   "execution_count": 63,
   "id": "00f1d7c9-51f7-4db9-9286-016ddc686c5c",
   "metadata": {},
   "outputs": [
    {
     "name": "stdout",
     "output_type": "stream",
     "text": [
      "ROEM final:  0.22246699241399884\n"
     ]
    }
   ],
   "source": [
    "# Ajustamos el model para todo el set de entrenamiento\n",
    "model_accessories = als_accessories.fit(training)\n",
    "predictions = model_accessories.transform(test)\n",
    "predictions = prediction_nan(predictions)\n",
    "ROEM_v = ROEM(predictions)\n",
    "\n",
    "# Mostramos el ROEM para todo el set de validación\n",
    "print (\"ROEM final: \", ROEM_v)"
   ]
  },
  {
   "cell_type": "code",
   "execution_count": 65,
   "id": "cdcba50a-bdc2-432a-800e-c7eb88840dcb",
   "metadata": {},
   "outputs": [],
   "source": [
    "accessories_recommendation = model_accessories.recommendForAllUsers(5)"
   ]
  },
  {
   "cell_type": "code",
   "execution_count": 66,
   "id": "082def64-a080-4022-8f3e-423b1f50f64f",
   "metadata": {},
   "outputs": [],
   "source": [
    "accessories_recommendation = accessories_recommendation.withColumn(\"recomm\", explode(\"recommendations\")).select('client_id', col(\"recomm.article_id\"), col(\"recomm.rating\"))"
   ]
  },
  {
   "cell_type": "code",
   "execution_count": 67,
   "id": "c5babfcc-570f-4a58-9692-66b6062ae503",
   "metadata": {},
   "outputs": [],
   "source": [
    "accessories_recommendationDF = accessories_recommendation.toPandas()"
   ]
  },
  {
   "cell_type": "code",
   "execution_count": 75,
   "id": "1b17cfb4-0aec-4234-aea2-40f2b1b594d0",
   "metadata": {},
   "outputs": [
    {
     "data": {
      "text/html": [
       "<div>\n",
       "<style scoped>\n",
       "    .dataframe tbody tr th:only-of-type {\n",
       "        vertical-align: middle;\n",
       "    }\n",
       "\n",
       "    .dataframe tbody tr th {\n",
       "        vertical-align: top;\n",
       "    }\n",
       "\n",
       "    .dataframe thead th {\n",
       "        text-align: right;\n",
       "    }\n",
       "</style>\n",
       "<table border=\"1\" class=\"dataframe\">\n",
       "  <thead>\n",
       "    <tr style=\"text-align: right;\">\n",
       "      <th></th>\n",
       "      <th>client_id</th>\n",
       "      <th>article_id</th>\n",
       "      <th>rating</th>\n",
       "    </tr>\n",
       "  </thead>\n",
       "  <tbody>\n",
       "    <tr>\n",
       "      <th>0</th>\n",
       "      <td>471</td>\n",
       "      <td>523488001</td>\n",
       "      <td>0.949682</td>\n",
       "    </tr>\n",
       "    <tr>\n",
       "      <th>1</th>\n",
       "      <td>471</td>\n",
       "      <td>560047001</td>\n",
       "      <td>0.949671</td>\n",
       "    </tr>\n",
       "    <tr>\n",
       "      <th>2</th>\n",
       "      <td>471</td>\n",
       "      <td>749974001</td>\n",
       "      <td>0.822573</td>\n",
       "    </tr>\n",
       "    <tr>\n",
       "      <th>3</th>\n",
       "      <td>471</td>\n",
       "      <td>318066004</td>\n",
       "      <td>0.811736</td>\n",
       "    </tr>\n",
       "    <tr>\n",
       "      <th>4</th>\n",
       "      <td>471</td>\n",
       "      <td>732409003</td>\n",
       "      <td>0.779234</td>\n",
       "    </tr>\n",
       "    <tr>\n",
       "      <th>5</th>\n",
       "      <td>833</td>\n",
       "      <td>453358001</td>\n",
       "      <td>0.763221</td>\n",
       "    </tr>\n",
       "    <tr>\n",
       "      <th>6</th>\n",
       "      <td>833</td>\n",
       "      <td>523490002</td>\n",
       "      <td>0.760363</td>\n",
       "    </tr>\n",
       "    <tr>\n",
       "      <th>7</th>\n",
       "      <td>833</td>\n",
       "      <td>647982001</td>\n",
       "      <td>0.739034</td>\n",
       "    </tr>\n",
       "    <tr>\n",
       "      <th>8</th>\n",
       "      <td>833</td>\n",
       "      <td>337991001</td>\n",
       "      <td>0.701750</td>\n",
       "    </tr>\n",
       "    <tr>\n",
       "      <th>9</th>\n",
       "      <td>833</td>\n",
       "      <td>648904001</td>\n",
       "      <td>0.696048</td>\n",
       "    </tr>\n",
       "  </tbody>\n",
       "</table>\n",
       "</div>"
      ],
      "text/plain": [
       "   client_id  article_id    rating\n",
       "0        471   523488001  0.949682\n",
       "1        471   560047001  0.949671\n",
       "2        471   749974001  0.822573\n",
       "3        471   318066004  0.811736\n",
       "4        471   732409003  0.779234\n",
       "5        833   453358001  0.763221\n",
       "6        833   523490002  0.760363\n",
       "7        833   647982001  0.739034\n",
       "8        833   337991001  0.701750\n",
       "9        833   648904001  0.696048"
      ]
     },
     "execution_count": 75,
     "metadata": {},
     "output_type": "execute_result"
    }
   ],
   "source": [
    "accessories_recommendationDF.head(10)"
   ]
  },
  {
   "cell_type": "code",
   "execution_count": 73,
   "id": "3a81d473-f55a-4124-a504-e0d82d62123f",
   "metadata": {},
   "outputs": [],
   "source": [
    "accessories_recommendationDF.to_csv(\"accessories_recommendation.csv\")"
   ]
  },
  {
   "cell_type": "markdown",
   "id": "f4454050-4644-4805-ab6f-624714f857fe",
   "metadata": {},
   "source": [
    "#### Caso Garment Lower body (GLB)"
   ]
  },
  {
   "cell_type": "code",
   "execution_count": 94,
   "id": "f81089d3-daf7-4f8b-bb4a-c8b959447fb9",
   "metadata": {},
   "outputs": [],
   "source": [
    "rank = 30\n",
    "maxIter = 10\n",
    "regParam = 0.001\n",
    "alpha = 100"
   ]
  },
  {
   "cell_type": "code",
   "execution_count": 95,
   "id": "a7c4279b-17df-4940-9975-960f3ed6fa7e",
   "metadata": {},
   "outputs": [],
   "source": [
    "als_glb = ALS(maxIter=maxIter, regParam=regParam, implicitPrefs=True, alpha = alpha, rank = rank, \n",
    "          userCol=\"client_id\", itemCol=\"article_id\", ratingCol=\"purchase_count\",\n",
    "          coldStartStrategy=\"nan\", nonnegative = True)"
   ]
  },
  {
   "cell_type": "code",
   "execution_count": 96,
   "id": "4fc0c0fe-72d0-48ac-85c7-39954a5ed1f0",
   "metadata": {},
   "outputs": [
    {
     "name": "stdout",
     "output_type": "stream",
     "text": [
      "ROEM final:  0.19875352309897756\n"
     ]
    }
   ],
   "source": [
    "# Ajustamos el model para todo el set de entrenamiento\n",
    "model_glb = als_glb.fit(training)\n",
    "predictions = model_glb.transform(test)\n",
    "predictions = prediction_nan(predictions)\n",
    "ROEM_v = ROEM(predictions)\n",
    "\n",
    "# Mostramos el ROEM para todo el set de validación\n",
    "print (\"ROEM final: \", ROEM_v)"
   ]
  },
  {
   "cell_type": "code",
   "execution_count": 97,
   "id": "521f44e6-1206-4b34-ba7e-21f1afcea4f9",
   "metadata": {},
   "outputs": [],
   "source": [
    "glb_recommendation = model_glb.recommendForAllUsers(5)"
   ]
  },
  {
   "cell_type": "code",
   "execution_count": 98,
   "id": "92b502d5-0160-47ec-a4ac-42d10d37fb66",
   "metadata": {},
   "outputs": [],
   "source": [
    "glb_recommendation = glb_recommendation.withColumn(\"recomm\", explode(\"recommendations\")).select('client_id', col(\"recomm.article_id\"), col(\"recomm.rating\"))"
   ]
  },
  {
   "cell_type": "code",
   "execution_count": 99,
   "id": "e0217ab8-3694-4e00-94e3-81d01578667b",
   "metadata": {},
   "outputs": [],
   "source": [
    "glb_recommendationDF = glb_recommendation.toPandas()"
   ]
  },
  {
   "cell_type": "code",
   "execution_count": 100,
   "id": "c2423b62-ed22-43b5-bbd7-7a40c879fbaf",
   "metadata": {},
   "outputs": [
    {
     "data": {
      "text/html": [
       "<div>\n",
       "<style scoped>\n",
       "    .dataframe tbody tr th:only-of-type {\n",
       "        vertical-align: middle;\n",
       "    }\n",
       "\n",
       "    .dataframe tbody tr th {\n",
       "        vertical-align: top;\n",
       "    }\n",
       "\n",
       "    .dataframe thead th {\n",
       "        text-align: right;\n",
       "    }\n",
       "</style>\n",
       "<table border=\"1\" class=\"dataframe\">\n",
       "  <thead>\n",
       "    <tr style=\"text-align: right;\">\n",
       "      <th></th>\n",
       "      <th>client_id</th>\n",
       "      <th>article_id</th>\n",
       "      <th>rating</th>\n",
       "    </tr>\n",
       "  </thead>\n",
       "  <tbody>\n",
       "    <tr>\n",
       "      <th>0</th>\n",
       "      <td>148</td>\n",
       "      <td>646429003</td>\n",
       "      <td>0.711674</td>\n",
       "    </tr>\n",
       "    <tr>\n",
       "      <th>1</th>\n",
       "      <td>148</td>\n",
       "      <td>597891012</td>\n",
       "      <td>0.629168</td>\n",
       "    </tr>\n",
       "    <tr>\n",
       "      <th>2</th>\n",
       "      <td>148</td>\n",
       "      <td>636902001</td>\n",
       "      <td>0.611342</td>\n",
       "    </tr>\n",
       "    <tr>\n",
       "      <th>3</th>\n",
       "      <td>148</td>\n",
       "      <td>749509006</td>\n",
       "      <td>0.603256</td>\n",
       "    </tr>\n",
       "    <tr>\n",
       "      <th>4</th>\n",
       "      <td>148</td>\n",
       "      <td>754176001</td>\n",
       "      <td>0.601963</td>\n",
       "    </tr>\n",
       "    <tr>\n",
       "      <th>5</th>\n",
       "      <td>463</td>\n",
       "      <td>680327001</td>\n",
       "      <td>0.787323</td>\n",
       "    </tr>\n",
       "    <tr>\n",
       "      <th>6</th>\n",
       "      <td>463</td>\n",
       "      <td>573716046</td>\n",
       "      <td>0.784925</td>\n",
       "    </tr>\n",
       "    <tr>\n",
       "      <th>7</th>\n",
       "      <td>463</td>\n",
       "      <td>719463002</td>\n",
       "      <td>0.750850</td>\n",
       "    </tr>\n",
       "    <tr>\n",
       "      <th>8</th>\n",
       "      <td>463</td>\n",
       "      <td>751471039</td>\n",
       "      <td>0.735637</td>\n",
       "    </tr>\n",
       "    <tr>\n",
       "      <th>9</th>\n",
       "      <td>463</td>\n",
       "      <td>690935001</td>\n",
       "      <td>0.706478</td>\n",
       "    </tr>\n",
       "  </tbody>\n",
       "</table>\n",
       "</div>"
      ],
      "text/plain": [
       "   client_id  article_id    rating\n",
       "0        148   646429003  0.711674\n",
       "1        148   597891012  0.629168\n",
       "2        148   636902001  0.611342\n",
       "3        148   749509006  0.603256\n",
       "4        148   754176001  0.601963\n",
       "5        463   680327001  0.787323\n",
       "6        463   573716046  0.784925\n",
       "7        463   719463002  0.750850\n",
       "8        463   751471039  0.735637\n",
       "9        463   690935001  0.706478"
      ]
     },
     "execution_count": 100,
     "metadata": {},
     "output_type": "execute_result"
    }
   ],
   "source": [
    "glb_recommendationDF.head(10)"
   ]
  },
  {
   "cell_type": "code",
   "execution_count": 102,
   "id": "b30343b2-7c93-4a91-8e09-f3eb37de7568",
   "metadata": {},
   "outputs": [],
   "source": [
    "glb_recommendationDF.to_csv(\"germent_lower_body_recommendation.csv\")"
   ]
  },
  {
   "cell_type": "code",
   "execution_count": 90,
   "id": "59d94496-7eea-402b-a2b7-f9c152063f6d",
   "metadata": {},
   "outputs": [
    {
     "name": "stdout",
     "output_type": "stream",
     "text": [
      "+---------+----------+--------------+-------------------+\n",
      "|client_id|article_id|purchase_count|         prediction|\n",
      "+---------+----------+--------------+-------------------+\n",
      "|   959921| 241412052|             1|                0.0|\n",
      "|  1171601| 241412052|             1|                0.0|\n",
      "|   180359| 241412052|             1|                0.0|\n",
      "|    16119| 241412052|             2|                0.0|\n",
      "|   183701| 241412052|             1|                0.0|\n",
      "|   208332| 241412052|             1|                0.0|\n",
      "|   129384| 241412052|             1|                0.0|\n",
      "|  1036426| 241412052|             1|                0.0|\n",
      "|    20800| 241412052|             1|                0.0|\n",
      "|    31581| 241412052|             1|                0.0|\n",
      "|   761755| 241412052|             1|                0.0|\n",
      "|  1071151| 241412052|             1|0.15633703486100303|\n",
      "|   878168| 241412052|             1|                0.0|\n",
      "|  1061371| 241412052|             2|                0.0|\n",
      "|   967248| 241412052|             1| 0.4532229729275048|\n",
      "|  1056035| 241412052|             1|                0.0|\n",
      "|    40973| 241412052|             2|                0.0|\n",
      "|  1187860| 241412052|             1|                0.0|\n",
      "|   607970| 241412052|             1|                0.0|\n",
      "|   607711| 241412052|             1|                0.0|\n",
      "+---------+----------+--------------+-------------------+\n",
      "only showing top 20 rows\n",
      "\n"
     ]
    }
   ],
   "source": [
    "predictions.show()"
   ]
  },
  {
   "cell_type": "code",
   "execution_count": 93,
   "id": "f36ff131-6842-4a1a-9a4a-86ded657b802",
   "metadata": {},
   "outputs": [
    {
     "name": "stdout",
     "output_type": "stream",
     "text": [
      "+---------+----------+------+\n",
      "|client_id|article_id|rating|\n",
      "+---------+----------+------+\n",
      "|      148| 156610010|   0.0|\n",
      "|      148| 179123040|   0.0|\n",
      "|      148| 194242050|   0.0|\n",
      "|      148| 249136020|   0.0|\n",
      "|      148| 250457010|   0.0|\n",
      "|      463| 156610010|   0.0|\n",
      "|      463| 179123040|   0.0|\n",
      "|      463| 194242050|   0.0|\n",
      "|      463| 249136020|   0.0|\n",
      "|      463| 250457010|   0.0|\n",
      "|      471| 156610010|   0.0|\n",
      "|      471| 179123040|   0.0|\n",
      "|      471| 194242050|   0.0|\n",
      "|      471| 249136020|   0.0|\n",
      "|      471| 250457010|   0.0|\n",
      "|      833| 156610010|   0.0|\n",
      "|      833| 179123040|   0.0|\n",
      "|      833| 194242050|   0.0|\n",
      "|      833| 249136020|   0.0|\n",
      "|      833| 250457010|   0.0|\n",
      "+---------+----------+------+\n",
      "only showing top 20 rows\n",
      "\n"
     ]
    }
   ],
   "source": [
    "glb_recommendation.show()"
   ]
  },
  {
   "cell_type": "code",
   "execution_count": null,
   "id": "801c95e2-522a-4ff5-a052-fdb2c833d74f",
   "metadata": {},
   "outputs": [],
   "source": []
  }
 ],
 "metadata": {
  "kernelspec": {
   "display_name": "Python 3 (ipykernel)",
   "language": "python",
   "name": "python3"
  },
  "language_info": {
   "codemirror_mode": {
    "name": "ipython",
    "version": 3
   },
   "file_extension": ".py",
   "mimetype": "text/x-python",
   "name": "python",
   "nbconvert_exporter": "python",
   "pygments_lexer": "ipython3",
   "version": "3.9.5"
  }
 },
 "nbformat": 4,
 "nbformat_minor": 5
}
